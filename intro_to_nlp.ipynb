{
 "cells": [
  {
   "cell_type": "markdown",
   "metadata": {
    "slideshow": {
     "slide_type": "slide"
    }
   },
   "source": [
    "## Introduction to NLP\n",
    "\n",
    "We will cover *practical* NLP:\n",
    "\n",
    "* how to process text\n",
    "* how to do useful things with it\n",
    "\n",
    "... we will not cover *theoretical* NLP:\n",
    "\n",
    "* grammars, syntax, linguistic models\n",
    "* (sorry Noam)"
   ]
  },
  {
   "cell_type": "code",
   "execution_count": null,
   "metadata": {
    "scrolled": true,
    "slideshow": {
     "slide_type": "skip"
    }
   },
   "outputs": [],
   "source": [
    "# download an IMDB dataset needed for later (~80 MB)\n",
    "!wget -nc https://ai.stanford.edu/~amaas/data/sentiment/aclImdb_v1.tar.gz\n",
    "!tar -xzf aclImdb_v1.tar.gz\n",
    "\n",
    "# download the English spacy tokenizer model we will use later\n",
    "# this model is small (~7 MB)\n",
    "!python -m spacy download en_core_web_sm\n",
    "\n",
    "# spacy word vectors (47.1 MB)\n",
    "!python -m spacy download en_core_web_md\n",
    "\n",
    "# !pip install seriate\n",
    "\n",
    "import os\n",
    "import itertools\n",
    "import re\n",
    "\n",
    "from pathlib import Path\n",
    "\n",
    "import numpy as np\n",
    "from tqdm.notebook import tqdm\n",
    "from spacy.tokens import Token\n",
    "from sklearn.feature_extraction.text import CountVectorizer\n",
    "from sklearn.pipeline import Pipeline\n",
    "from sklearn import metrics\n",
    "from sklearn import tree\n",
    "\n",
    "# used to display trees\n",
    "import pydotplus\n",
    "from IPython.display import Image\n",
    "from matplotlib import cm\n",
    "\n",
    "%matplotlib inline\n",
    "\n",
    "def create_graph(mdl, cmap=None, feature_names=None):\n",
    "    # cmap is a colormap\n",
    "    # e.g. cmap = matplotlib.cm.coolwarm( np.linspace(0.0, 1.0, 256, dtype=float) )\n",
    "    tree_graph = tree.export_graphviz(\n",
    "        mdl, out_file=None,\n",
    "        feature_names=feature_names,\n",
    "        filled=True, rounded=True\n",
    "    )\n",
    "    graph = pydotplus.graphviz.graph_from_dot_data(tree_graph)\n",
    "    \n",
    "    # get colormap\n",
    "    if cmap:\n",
    "        # remove transparency\n",
    "        if cmap.shape[1]==4:\n",
    "            cmap = cmap[:,0:2]\n",
    "        \n",
    "        nodes = graph.get_node_list()\n",
    "        for node in nodes:\n",
    "            if node.get_label():\n",
    "                # get number of samples in group 1 and group 2\n",
    "                num_samples = [int(ii) for ii in node.get_label().split('value = [')[1].split(']')[0].split(',')]\n",
    "\n",
    "                # proportion that is class 2\n",
    "                cm_value = float(num_samples[1]) / float(sum(num_samples))\n",
    "                # convert to (R, G, B, alpha) tuple\n",
    "                cm_value = cm.coolwarm(cm_value)\n",
    "                cm_value = [int(np.ceil(255*x)) for x in cm_value]\n",
    "                color = '#{:02x}{:02x}{:02x}'.format(cm_value[0], cm_value[1], cm_value[2])\n",
    "                node.set_fillcolor(color)\n",
    "\n",
    "    Image(graph.create_png())\n",
    "    return graph\n",
    "\n",
    "def train_pipe_and_predict(pipe, X_train, y_train, X_test):\n",
    "    \"\"\"Convenience function for training pipeline.\"\"\"\n",
    "    print('Building model.')\n",
    "    pipe.fit(X_train, y_train)\n",
    "\n",
    "    print('Getting test predictions.')\n",
    "\n",
    "    # Predicting with a test dataset\n",
    "    pred = pipe.predict(X_test)\n",
    "    \n",
    "    return pred\n",
    "\n",
    "def print_results(y_test, pred):\n",
    "    # Model Accuracy\n",
    "    print(f\"Accuracy: {metrics.accuracy_score(y_test, pred):3.1%}\")\n",
    "    print(f\"Precision: {metrics.precision_score(y_test, pred):3.1%}\")\n",
    "    print(f\"Recall: {metrics.recall_score(y_test, pred):3.1%}\")\n",
    "\n",
    "def introspect_text(pipe, text):\n",
    "    print(text, end='\\n\\n')\n",
    "    vectorizer = pipe.named_steps['vectorizer']\n",
    "    freq = vectorizer.transform([text])[0].toarray()\n",
    "    features = vectorizer.get_feature_names_out()\n",
    "    \n",
    "    # get the prediction\n",
    "    pred = pipe.predict([text])\n",
    "    if pred[0] == 0:\n",
    "        print('Prediction: NEGATIVE.')\n",
    "    else:\n",
    "        print('Prediction: POSITIVE.')\n",
    "    for i, feat in enumerate(features):\n",
    "        print(f'{feat:10s} {freq[0][i]:3d}')\n",
    "        "
   ]
  },
  {
   "cell_type": "markdown",
   "metadata": {
    "slideshow": {
     "slide_type": "slide"
    }
   },
   "source": [
    "# Why NLP?\n",
    "\n",
    "<img src=\"img/nlp_text_with_ann.png\">\n",
    "\n",
    "* Dense source of information"
   ]
  },
  {
   "cell_type": "markdown",
   "metadata": {
    "slideshow": {
     "slide_type": "subslide"
    }
   },
   "source": [
    "# Why is NLP hard?\n",
    "\n",
    "<img src=\"img/newspaper_san_jose.jpg\" width=800>"
   ]
  },
  {
   "cell_type": "markdown",
   "metadata": {
    "slideshow": {
     "slide_type": "subslide"
    }
   },
   "source": [
    "# Why is NLP hard?\n",
    "\n",
    "<img src=\"img/crash_blossoms.jpg\" width=800>\n",
    "\n",
    "[Garden-path sentence (wiki)](https://en.wikipedia.org/wiki/Garden-path_sentence) / [Crash Blossoms](https://languagelog.ldc.upenn.edu/nll/?cat=118)"
   ]
  },
  {
   "cell_type": "markdown",
   "metadata": {
    "slideshow": {
     "slide_type": "subslide"
    }
   },
   "source": [
    "# Why is NLP hard?\n",
    "\n",
    "* ambiguous\n",
    "* complex\n",
    "* context dependent\n",
    "* requires prior knowledge\n",
    "* requires a world model\n",
    "* is used for interaction with people (amusing, insulting)"
   ]
  },
  {
   "cell_type": "markdown",
   "metadata": {
    "slideshow": {
     "slide_type": "slide"
    }
   },
   "source": [
    "# Goal of today\n",
    "\n",
    "(Practical) NLP attempts to represent language as data, then do something useful with it.\n",
    "\n",
    "A classic source of data are reviews (movie reviews, places, etc).\n",
    "\n",
    "* Text of the review -> natural language\n",
    "* Star rating of the review -> easy to convert to a label\n",
    "\n",
    "Let's start with some very short reviews, and our goal is to classify whether they are positive (1) or negative (0) in terms of *sentiment*, i.e. whether someone liked the movie or not."
   ]
  },
  {
   "cell_type": "code",
   "execution_count": null,
   "metadata": {
    "slideshow": {
     "slide_type": "subslide"
    }
   },
   "outputs": [],
   "source": [
    "sentences = [\n",
    "    'Good times were had by all.',\n",
    "    'This was a good-looking place.',\n",
    "    'A once in a lifetime experience.',\n",
    "    'Horrible.',\n",
    "    'One of the worst experiences of my life.',\n",
    "    \"Everything went terribly, I'll never return.\"\n",
    "]\n",
    "y = [1, 1, 1, 0, 0, 0]\n",
    "\n",
    "sentences_test = [\n",
    "    'This was fun!',\n",
    "    'Abysmal, horrible service.'\n",
    "]\n",
    "y_test = [1, 0]"
   ]
  },
  {
   "cell_type": "markdown",
   "metadata": {
    "slideshow": {
     "slide_type": "skip"
    }
   },
   "source": [
    "## Create a feature matrix\n",
    "\n",
    "* We need to transform a sentence into a vector of features ($\\textbf{x}$)\n",
    "* < w<sub>1</sub>, w<sub>2</sub>, ..., w<sub>M</sub> >   ➞   **x**<sub>i</sub>"
   ]
  },
  {
   "cell_type": "markdown",
   "metadata": {
    "slideshow": {
     "slide_type": "subslide"
    }
   },
   "source": [
    "## Create a feature matrix\n",
    "\n",
    "* We need to transform a `sentence` into a matrix of features (`X`).\n",
    "* We can represent a `sentence` as a collection of symbols *s*\n",
    "\n",
    "\\[s<sub>1</sub>, s<sub>2</sub>, ..., s<sub>M</sub>\\]  ➞ \\[x<sub>1</sub>, x<sub>2</sub>, ..., x<sub>D</sub>\\] \n",
    "\n",
    "Note $D$ (length of $\\textbf{x}$) != $M$ (number of symbols in the sentence)."
   ]
  },
  {
   "cell_type": "markdown",
   "metadata": {
    "slideshow": {
     "slide_type": "subslide"
    }
   },
   "source": [
    "## Create a feature matrix\n",
    "\n",
    "One feature for every letter in the alphabet\n",
    "\n",
    "s<sub>1</sub> | s<sub>2</sub> | s<sub>3</sub> | s<sub>4</sub> | | to | | x<sub>1</sub> | x<sub>2</sub>\n",
    "--- | --- | --- | --- | --- | --- | --- | --- | ---\n",
    "d | i | p |   | | | | 0 | 1\n",
    "c | a | t |   | | | | 0 | 0\n",
    "h | i |   |   | | | | 1 | 0\n",
    "s | h | i | p | | | | 1 | 1\n"
   ]
  },
  {
   "cell_type": "code",
   "execution_count": null,
   "metadata": {
    "slideshow": {
     "slide_type": "fragment"
    }
   },
   "outputs": [],
   "source": [
    "alphabet='abcdefghijklmnopqrstuvwxyz'\n",
    "splitter = lambda x: re.split('', x)\n",
    "def prepare_data(sentences, splitter=splitter, alphabet=alphabet):\n",
    "    X = []\n",
    "    for sentence in sentences:\n",
    "        sentence = splitter(sentence)\n",
    "        x = [int(symbol in sentence) for symbol in alphabet]\n",
    "        X.append(x)\n",
    "    return X\n",
    "    \n",
    "X = prepare_data(sentences)"
   ]
  },
  {
   "cell_type": "code",
   "execution_count": null,
   "metadata": {
    "slideshow": {
     "slide_type": "subslide"
    }
   },
   "outputs": [],
   "source": [
    "# visualize the data with the sentence\n",
    "print(alphabet)\n",
    "for i, sentence_vector in enumerate(X):\n",
    "    print(''.join([str(c) for c in sentence_vector]), end=' ')\n",
    "    print(sentences[i])"
   ]
  },
  {
   "cell_type": "markdown",
   "metadata": {
    "slideshow": {
     "slide_type": "subslide"
    }
   },
   "source": [
    "## Train the model"
   ]
  },
  {
   "cell_type": "code",
   "execution_count": null,
   "metadata": {
    "slideshow": {
     "slide_type": "fragment"
    }
   },
   "outputs": [],
   "source": [
    "mdl = tree.DecisionTreeClassifier(max_depth=3)\n",
    "\n",
    "# fit the model to the data - trying to predict y from X\n",
    "mdl = mdl.fit(X, y)"
   ]
  },
  {
   "cell_type": "markdown",
   "metadata": {
    "slideshow": {
     "slide_type": "subslide"
    }
   },
   "source": [
    "## Try our model on new data"
   ]
  },
  {
   "cell_type": "code",
   "execution_count": null,
   "metadata": {
    "slideshow": {
     "slide_type": "fragment"
    }
   },
   "outputs": [],
   "source": [
    "X_test = prepare_data(sentences_test)\n",
    "pred_test = mdl.predict(X_test)\n",
    "\n",
    "match = [pred_test[i] == y_test[i] for i, sentence in enumerate(sentences_test)]\n",
    "print(f'{sum(match) / len(sentences_test):3.1%} accuracy.')\n",
    "print([(pred_test[i], sentence) for i, sentence in enumerate(sentences_test)])"
   ]
  },
  {
   "cell_type": "markdown",
   "metadata": {
    "slideshow": {
     "slide_type": "fragment"
    }
   },
   "source": [
    "That's... bad. What happened?"
   ]
  },
  {
   "cell_type": "markdown",
   "metadata": {
    "slideshow": {
     "slide_type": "subslide"
    }
   },
   "source": [
    "## Visualize the trained model"
   ]
  },
  {
   "cell_type": "code",
   "execution_count": null,
   "metadata": {
    "slideshow": {
     "slide_type": "fragment"
    }
   },
   "outputs": [],
   "source": [
    "graph = create_graph(mdl, feature_names=list(alphabet))\n",
    "Image(graph.create_png())"
   ]
  },
  {
   "cell_type": "code",
   "execution_count": null,
   "metadata": {
    "slideshow": {
     "slide_type": "fragment"
    }
   },
   "outputs": [],
   "source": [
    "# print out the training set with the letter \"a\" highlighted in each sentence\n",
    "for i, sentence in enumerate(sentences):\n",
    "    sentence = ''.join([f\"\\033[4m\\033[91m{c}\\033[0m\"  if c == 'a' else c for c in sentence])\n",
    "    print(f'{sentence}: {y[i]}')"
   ]
  },
  {
   "cell_type": "markdown",
   "metadata": {
    "slideshow": {
     "slide_type": "notes"
    }
   },
   "source": [
    "Our model has learned that the letter \"a\" is always present in positive sentences, and never in negative sentences."
   ]
  },
  {
   "cell_type": "markdown",
   "metadata": {
    "slideshow": {
     "slide_type": "fragment"
    }
   },
   "source": [
    "Let's get our hands on some real data."
   ]
  },
  {
   "cell_type": "markdown",
   "metadata": {
    "slideshow": {
     "slide_type": "slide"
    }
   },
   "source": [
    "# IMDb\n",
    "\n",
    "A large dataset from the Internet Movie Database (IMDb) was curated by researchers [1].\n",
    "\n",
    "- 50,000 reviews of movies on IMDB\n",
    "- 25,000 positive reviews (>=7), 25,000 negative reviews (<=4)\n",
    "- Commonly used for sentiment classification; i.e. is this review positive (great movie!) or negative (awful movie!)\n",
    "\n",
    "> [1] Maas A, Daly RE, Pham PT, Huang D, Ng AY, Potts C. Learning word vectors for sentiment analysis. In Proceedings of the 49th annual meeting of the association for computational linguistics: Human language technologies 2011 Jun (pp. 142-150)."
   ]
  },
  {
   "cell_type": "code",
   "execution_count": null,
   "metadata": {
    "slideshow": {
     "slide_type": "subslide"
    }
   },
   "outputs": [],
   "source": [
    "def load_data(path):\n",
    "    # initialize a dictionary (key-value store) for our corpus\n",
    "    corpus = {}\n",
    "    \n",
    "    # for each file in the given folder path\n",
    "    files = os.listdir(path)\n",
    "    for fn in tqdm(files):\n",
    "        filename = path / fn\n",
    "        # open the file and read the text\n",
    "        with open(filename, 'r') as fp:\n",
    "            text = ''.join(fp.readlines())\n",
    "        \n",
    "        # put the text into the dictionary keyed by the filename\n",
    "        # we can later access text data by indexing this dictionary\n",
    "        # e.g. corpus[\"10_9\"]\n",
    "        corpus[filename.stem] = text\n",
    "    \n",
    "    return corpus\n",
    "\n",
    "print('Loading positive documents (training set).')\n",
    "pos = load_data(Path('aclImdb/train/pos'))\n",
    "print('Loading negative documents (training set).')\n",
    "neg = load_data(Path('aclImdb/train/neg'))\n",
    "\n",
    "print('Loading positive documents (test set).')\n",
    "pos_test = load_data(Path('aclImdb/test/pos'))\n",
    "print('Loading negative documents (test set).')\n",
    "neg_test = load_data(Path('aclImdb/test/neg'))\n",
    "\n",
    "def get_numpy_arrays(pos, neg):\n",
    "    # create numpy arrays of the datasets\n",
    "    # these are more natively usable by ML libraries\n",
    "    X_pos = np.array(list(pos.values()))\n",
    "    X_neg = np.array(list(neg.values()))\n",
    "    X = np.hstack([X_pos, X_neg])\n",
    "    n_pos, n_neg = X_pos.shape[0], X_neg.shape[0]\n",
    "    y = np.concatenate([np.ones(n_pos), np.zeros(n_neg)])\n",
    "    return X, y\n",
    "\n",
    "# only use ~1000 examples for speed\n",
    "X_train, y_train = get_numpy_arrays(\n",
    "    {k: v for k, v in pos.items() if k.startswith('2')},\n",
    "    {k: v for k, v in neg.items() if k.startswith('2')}\n",
    ")\n",
    "X_test, y_test = get_numpy_arrays(\n",
    "    {k: v for k, v in pos_test.items() if k.startswith('2')},\n",
    "    {k: v for k, v in neg_test.items() if k.startswith('2')}\n",
    ")"
   ]
  },
  {
   "cell_type": "markdown",
   "metadata": {
    "slideshow": {
     "slide_type": "subslide"
    }
   },
   "source": [
    "## Example review  - [Stanley and Iris](https://www.imdb.com/title/tt0100680/?ref_=tt_urv)\n",
    "\n",
    "<img src=\"img/fonda_deniro_Stanley_And_Iris_1990.png\" width=800>\n"
   ]
  },
  {
   "cell_type": "markdown",
   "metadata": {
    "slideshow": {
     "slide_type": "subslide"
    }
   },
   "source": [
    "## Example review  - [Stanley and Iris](https://www.imdb.com/title/tt0100680/?ref_=tt_urv)"
   ]
  },
  {
   "cell_type": "code",
   "execution_count": null,
   "metadata": {
    "slideshow": {
     "slide_type": "fragment"
    }
   },
   "outputs": [],
   "source": [
    "review = pos['10_9']\n",
    "print(review)"
   ]
  },
  {
   "cell_type": "markdown",
   "metadata": {
    "slideshow": {
     "slide_type": "slide"
    }
   },
   "source": [
    "# Redo our character example"
   ]
  },
  {
   "cell_type": "code",
   "execution_count": null,
   "metadata": {
    "slideshow": {
     "slide_type": "fragment"
    }
   },
   "outputs": [],
   "source": [
    "vocabulary='abcdefghijklmnopqrstuvwxyz'\n",
    "splitter = lambda x: re.split('', x)\n",
    "\n",
    "# visualize the data with the sentence\n",
    "X = prepare_data(X_train, splitter, vocabulary)\n",
    "\n",
    "mdl = tree.DecisionTreeClassifier(max_depth=3)\n",
    "\n",
    "# fit the model to the data - trying to predict y from X\n",
    "mdl = mdl.fit(X, y_train)\n",
    "\n",
    "X = prepare_data(X_test, splitter, vocabulary)\n",
    "pred_test = mdl.predict(X)\n",
    "\n",
    "match = [pred_test[i] == y_test[i] for i in range(len(pred_test))]\n",
    "print(f'{sum(match) / len(pred_test):3.1%} accuracy.')\n",
    "\n",
    "graph = create_graph(mdl, feature_names=vocabulary)\n",
    "Image(graph.create_png())"
   ]
  },
  {
   "cell_type": "markdown",
   "metadata": {
    "slideshow": {
     "slide_type": "subslide"
    }
   },
   "source": [
    "# How can we improve our representation of text?"
   ]
  },
  {
   "cell_type": "markdown",
   "metadata": {
    "slideshow": {
     "slide_type": "fragment"
    }
   },
   "source": [
    "Some things to note:\n",
    "\n",
    "* we are *only* using letters [a-z]\n",
    "  * we are ignoring capital letters\n",
    "  * we are not using any punctuation\n",
    "* we are just using the presence of the letter\n",
    "\n",
    "So what do to?\n",
    "\n",
    "* ..."
   ]
  },
  {
   "cell_type": "markdown",
   "metadata": {
    "slideshow": {
     "slide_type": "notes"
    }
   },
   "source": [
    "* use more letters (expand vocabulary)\n",
    "* use a morpheme (improve vocabulary)\n",
    "* count the letters (better capture statistics about the text)"
   ]
  },
  {
   "cell_type": "markdown",
   "metadata": {
    "slideshow": {
     "slide_type": "slide"
    }
   },
   "source": [
    "## Redo our character example with sklearn\n",
    "\n",
    "With the mock dataset, we manually created the feature matrices with characters as features (a, b, c, d, ...).\n",
    "\n",
    "Now we'll use scikit-learn for modelling. Read more about the components of scikit-learn. \n",
    "Remember, we have one goal: **represent text as data**... (to do *useful* things).\n",
    "\n",
    "[Pipelines](https://scikit-learn.org/stable/modules/generated/sklearn.pipeline.Pipeline.html#sklearn.pipeline.Pipeline) are an *extremely* useful way to do these steps. It is basically a convenient API to tell Python \"do A, then B, then C\"... and to do it reproducibly with different datasets (think train/test splits!).\n",
    "\n",
    "<img src=\"img/nlp_pipeline.png\" width=800>"
   ]
  },
  {
   "cell_type": "markdown",
   "metadata": {
    "slideshow": {
     "slide_type": "subslide"
    }
   },
   "source": [
    "## Build the model\n",
    "\n",
    "We'll focus on changing the arguments to `Pipeline` - and the utility functions defined above will use the pipeline to train a model using the training data and apply it to the test data."
   ]
  },
  {
   "cell_type": "code",
   "execution_count": null,
   "metadata": {
    "slideshow": {
     "slide_type": "fragment"
    }
   },
   "outputs": [],
   "source": [
    "pipe = Pipeline([\n",
    "    ('vectorizer', CountVectorizer(analyzer='char', binary=True) ),\n",
    "    ('classifier', tree.DecisionTreeClassifier(max_depth=3))\n",
    "])\n",
    "\n",
    "# (note: pipeline isupdated in-place!)\n",
    "pred = train_pipe_and_predict(pipe, X_train, y_train, X_test)\n",
    "# the above function simply calls:\n",
    "#   pipe.fit(X_train, y_train)\n",
    "#   pred = pipe.predict(X_test)\n",
    "\n",
    "# Now that we have predictions for the test set (`pred`)\n",
    "# we can calculate the performance of our model on a held out set.\n",
    "print_results(y_test, pred)"
   ]
  },
  {
   "cell_type": "markdown",
   "metadata": {
    "slideshow": {
     "slide_type": "subslide"
    }
   },
   "source": [
    "## Visualize the model\n",
    "\n",
    "[You can display pipelines graphically with scikit-learn!](https://scikit-learn.org/stable/auto_examples/miscellaneous/plot_pipeline_display.html#sphx-glr-auto-examples-miscellaneous-plot-pipeline-display-py)"
   ]
  },
  {
   "cell_type": "code",
   "execution_count": null,
   "metadata": {
    "slideshow": {
     "slide_type": "fragment"
    }
   },
   "outputs": [],
   "source": [
    "from sklearn import set_config\n",
    "set_config(display=\"diagram\")\n",
    "pipe"
   ]
  },
  {
   "cell_type": "markdown",
   "metadata": {
    "slideshow": {
     "slide_type": "subslide"
    }
   },
   "source": [
    "## Visualize the model\n",
    "\n",
    "We can also look at the tree model."
   ]
  },
  {
   "cell_type": "code",
   "execution_count": null,
   "metadata": {
    "scrolled": true,
    "slideshow": {
     "slide_type": "subslide"
    }
   },
   "outputs": [],
   "source": [
    "# grab the vectorizer / classifier to make a figure of the model\n",
    "vectorizer = pipe.named_steps['vectorizer']\n",
    "classifier = pipe.named_steps['classifier']\n",
    "\n",
    "graph = create_graph(classifier, feature_names=vectorizer.get_feature_names_out())\n",
    "Image(graph.create_png())"
   ]
  },
  {
   "cell_type": "markdown",
   "metadata": {
    "slideshow": {
     "slide_type": "subslide"
    }
   },
   "source": [
    "Note that our `CountVectorizer` class has added symbols beyond the alphabet."
   ]
  },
  {
   "cell_type": "code",
   "execution_count": null,
   "metadata": {
    "scrolled": true,
    "slideshow": {
     "slide_type": "fragment"
    }
   },
   "outputs": [],
   "source": [
    "print([c for c in sorted(list(vectorizer.vocabulary_.keys()))])"
   ]
  },
  {
   "cell_type": "markdown",
   "metadata": {
    "slideshow": {
     "slide_type": "notes"
    }
   },
   "source": [
    "Note that the above is slightly better than what we had before as we are including characters which are not letters (e.g. the asterisk, money sign, etc)."
   ]
  },
  {
   "cell_type": "markdown",
   "metadata": {
    "slideshow": {
     "slide_type": "subslide"
    }
   },
   "source": [
    "## Compare approaches\n",
    "\n",
    "* Binary character presence: 57.8%."
   ]
  },
  {
   "cell_type": "markdown",
   "metadata": {
    "slideshow": {
     "slide_type": "subslide"
    }
   },
   "source": [
    "## Count the characters rather than present/absent\n",
    "\n",
    "In our above pipeline, we specified `binary=True`. From the [scikit-learn docs on CountVectorizer](https://scikit-learn.org/stable/modules/generated/sklearn.feature_extraction.text.CountVectorizer.html):\n",
    "\n",
    "> binary **bool**, default=False\n",
    ">\n",
    ">    If True, all non zero counts are set to 1. This is useful for discrete probabilistic models that model binary events rather than integer counts.\n",
    "\n",
    "This creates what we had before - a feature matrix of 1s and 0s. As the name implies, `CountVectorizer` is able to return a matrix of counts for how often a character appears. We can see the impact of changing this below."
   ]
  },
  {
   "cell_type": "code",
   "execution_count": null,
   "metadata": {
    "slideshow": {
     "slide_type": "subslide"
    }
   },
   "outputs": [],
   "source": [
    "pipe = Pipeline([('vectorizer', CountVectorizer(\n",
    "                    analyzer='char',\n",
    "                    binary=False)\n",
    "                 ),\n",
    "                 ('classifier', tree.DecisionTreeClassifier(max_depth=3))])\n",
    "\n",
    "# pipeline will be updated in-place!\n",
    "pred = train_pipe_and_predict(pipe, X_train, y_train, X_test)\n",
    "\n",
    "# Now that we have predictions for the test set (`pred`), we can calculate the performance of our model on a held out set.\n",
    "print_results(y_test, pred)"
   ]
  },
  {
   "cell_type": "markdown",
   "metadata": {
    "slideshow": {
     "slide_type": "subslide"
    }
   },
   "source": [
    "## Compare approaches\n",
    "\n",
    "* Character presence: **57.8%**.\n",
    "* Character counts: 55.4%."
   ]
  },
  {
   "cell_type": "markdown",
   "metadata": {
    "slideshow": {
     "slide_type": "slide"
    }
   },
   "source": [
    "# Recap\n",
    "\n",
    "* We tried to classify some dummy text using the presence of letters\n",
    "  * It did not go well\n",
    "* We are going to try using the presence of words\n",
    "  * We hope it will go better!\n"
   ]
  },
  {
   "cell_type": "markdown",
   "metadata": {
    "slideshow": {
     "slide_type": "slide"
    }
   },
   "source": [
    "# The main problem: we are not using a morpheme\n",
    "\n",
    "We have made a choice to represent our data based on the character.\n",
    "However, *English characters do not carry that much meaning*.\n",
    "\n",
    "Compare the words \"Amazing\" and \"Abysmal\"\n",
    "\n",
    "* Both start with a capital 'A'\n",
    "* Both have two of the letter 'a'\n",
    "* Both have seven letters\n",
    "\n",
    "... but clearly the words do not share meaning."
   ]
  },
  {
   "cell_type": "code",
   "execution_count": null,
   "metadata": {
    "slideshow": {
     "slide_type": "skip"
    }
   },
   "outputs": [],
   "source": [
    "# can get bytes for each character directly in python:\n",
    "print(\" \".join(\"{:02x}\".format(ord(c)) for c in 'Amazing'))"
   ]
  },
  {
   "cell_type": "markdown",
   "metadata": {
    "slideshow": {
     "slide_type": "slide"
    }
   },
   "source": [
    "# Deciding on a morpheme\n",
    "\n",
    "Term | Text | Example split\n",
    "--- | --- | ---\n",
    "Byte | Amazing | 41 6d 61 7a 69 6e 67\n",
    "Character | Amazing | A m a z i n g\n",
    "Lexeme | Amazing | Amaz\n",
    "Word | Amazing | Amazing\n",
    "Multiple words | Wow that was amazing | was amazing\n",
    "Sentence | Wow that was amazing | Wow that was amazing\n",
    "\n",
    "(we can of course continue to higher levels: paragraphs, documents, corpus, ...)."
   ]
  },
  {
   "cell_type": "markdown",
   "metadata": {
    "slideshow": {
     "slide_type": "subslide"
    }
   },
   "source": [
    "# Deciding on a morpheme\n",
    "\n",
    "Term | Text | Example split | Reasoning\n",
    "--- | --- | --- | ---\n",
    "~Byte~ | Amazing | 41 6d 61 7a 69 6e 67 | yikes\n",
    "~Character~ | Amazing | A m a z i n g | too low level\n",
    "Lexeme | Amazing | Amaz | not sure how to do this (yet!)\n",
    "Word | Amazing | Amazing | interesting!\n",
    "Multiple words | Wow that was amazing | was amazing | also interesting!\n",
    "~Sentence~ | Wow that was amazing | Wow that was amazing | too specific, will overfit\n",
    "\n",
    "(we can of course continue to higher levels: paragraphs, documents, corpus, ...)."
   ]
  },
  {
   "cell_type": "code",
   "execution_count": null,
   "metadata": {
    "slideshow": {
     "slide_type": "subslide"
    }
   },
   "outputs": [],
   "source": [
    "# look at our review again\n",
    "review = pos['10_9']\n",
    "print(review, end='\\n\\n')\n",
    "# get all the unique words in the sentences, splitting by spaces\n",
    "print(\" | \".join([word for word in review.split(' ')[:10]]))"
   ]
  },
  {
   "cell_type": "markdown",
   "metadata": {
    "slideshow": {
     "slide_type": "fragment"
    }
   },
   "source": [
    "The above list.. isn't great.\n",
    "\n",
    "* multiple words are combined (\"I'm\" is \"I am\")\n",
    "* punctuation included in words\n",
    "* plural is included so \"movie\" and \"movies\" would be different words\n",
    "\n",
    "For this reason, we do not usually use *words* as our morpheme. We use *tokens*."
   ]
  },
  {
   "cell_type": "markdown",
   "metadata": {
    "slideshow": {
     "slide_type": "slide"
    }
   },
   "source": [
    "# Tokenization\n",
    "\n",
    "* In NLP, we don't work with \"words\", we work with \"tokens\"\n",
    "* *Tokens* are groups of symbols with some semantic meaning\n",
    "* Tokenization is the process of converting text into individual tokens"
   ]
  },
  {
   "cell_type": "markdown",
   "metadata": {
    "slideshow": {
     "slide_type": "subslide"
    }
   },
   "source": [
    "# Tokenizers\n",
    "\n",
    "A few very popular tokenizers:\n",
    "\n",
    "* [spaCy's English tokenizer](https://spacy.io/api/tokenizer#_title)\n",
    "* [nltk's English tokenizer](https://www.nltk.org/api/nltk.tokenize.html#module-nltk.tokenize)\n",
    "* [huggingface's English Bert tokenizer](https://huggingface.co/docs/transformers/v4.17.0/en/model_doc/bert#transformers.BertTokenizer)"
   ]
  },
  {
   "cell_type": "code",
   "execution_count": null,
   "metadata": {
    "scrolled": true,
    "slideshow": {
     "slide_type": "subslide"
    }
   },
   "outputs": [],
   "source": [
    "import spacy\n",
    "# load an English spacy model we have already downloaded\n",
    "nlp = spacy.load(\"en_core_web_sm\")\n",
    "\n",
    "doc = nlp(review)\n",
    "print([token for token in doc])"
   ]
  },
  {
   "cell_type": "markdown",
   "metadata": {
    "slideshow": {
     "slide_type": "fragment"
    }
   },
   "source": [
    "* `'m` and `'s` are given their own token\n",
    "* punctuation marks are individual tokens\n",
    "* whitespaces are individual tokens\n",
    "\n",
    "As you can see, tokens *do not have to be words*!\n",
    "\n",
    "... how do we turn this into `X`?"
   ]
  },
  {
   "cell_type": "markdown",
   "metadata": {
    "slideshow": {
     "slide_type": "subslide"
    }
   },
   "source": [
    "## Creating the feature matrix\n",
    "\n",
    "* Recall when we used the alphabet\n",
    "* Each column was a letter\n",
    "* Each row was our sentence (now review)\n",
    "  * `X[i,j] == 1` -> letter is in the document\n",
    "  * `X[i,j] == 0` -> letter is **not** in the document"
   ]
  },
  {
   "cell_type": "markdown",
   "metadata": {
    "slideshow": {
     "slide_type": "fragment"
    }
   },
   "source": [
    "* We are using tokens instead of letters\n",
    "  * **Advantage**: we think words will be a better representation of text meaning (compared to letters)\n",
    "  * **Disadvantage**: we now need to create an \"alphabet\" for words, i.e. the **vocabulary**"
   ]
  },
  {
   "cell_type": "markdown",
   "metadata": {
    "slideshow": {
     "slide_type": "subslide"
    }
   },
   "source": [
    "# Vocabulary\n",
    "\n",
    "* The set of tokens we choose is our *vocabulary*.\n",
    "* Most vocabularies consist of the most common tokens.\n",
    "* This works because word usage follows the Pareto principle.\n",
    "\n",
    "\"You will know 90% of the words in a book after the first 20 pages, so the rest of it will be easier to read..\""
   ]
  },
  {
   "cell_type": "markdown",
   "metadata": {
    "slideshow": {
     "slide_type": "subslide"
    }
   },
   "source": [
    "<table><tr>\n",
    "<td>    <img src=\"https://upload.wikimedia.org/wikipedia/en/0/03/Secret_Adversary_First_Edition_Cover_1922.jpg\" width=250px> </td>\n",
    "<td>    <img src=\"https://upload.wikimedia.org/wikipedia/commons/a/ab/JoyceUlysses2.jpg\" width=250px> </td>\n",
    "<td>    <img src=\"https://upload.wikimedia.org/wikipedia/commons/thumb/6/6f/Joyce_wake.jpg/369px-Joyce_wake.jpg\" width=250px> </td>\n",
    "</tr></table>"
   ]
  },
  {
   "cell_type": "markdown",
   "metadata": {
    "slideshow": {
     "slide_type": "subslide"
    }
   },
   "source": [
    "<table><tr>\n",
    "<td>    \n",
    "<img src=\"data:image/png;base64,iVBORw0KGgoAAAANSUhEUgAAAfoAAAFwCAYAAABQPrn3AAAABHNCSVQICAgIfAhkiAAAAAlwSFlz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%0AODEVehERESemQi8iIuLE/h8JGeIAB0KNfAAAAABJRU5ErkJggg==%0A\">\n",
    "</td>\n",
    "\n",
    "<td>\n",
    "<img src=\"data:image/png;base64,iVBORw0KGgoAAAANSUhEUgAAAfoAAAFwCAYAAABQPrn3AAAABHNCSVQICAgIfAhkiAAAAAlwSFlz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%0AOQdR3ybSIgAAAABJRU5ErkJggg==%0A\">\n",
    "</td>\n",
    "\n",
    "<td>\n",
    "<img src=\"data:image/png;base64,iVBORw0KGgoAAAANSUhEUgAAAfoAAAFwCAYAAABQPrn3AAAABHNCSVQICAgIfAhkiAAAAAlwSFlz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%0AEEIIoWHS6IUQQggN+39wFD2wYNG70wAAAABJRU5ErkJggg==%0A\">\n",
    "</td>\n",
    "\n",
    "</tr></table>\n",
    "\n",
    "Source: [Book coverage by Roman Kierzkowski](https://github.com/vocapouch/vocapouch-research/blob/master/books/Book%20Coverage.ipynb)"
   ]
  },
  {
   "cell_type": "markdown",
   "metadata": {
    "slideshow": {
     "slide_type": "notes"
    }
   },
   "source": [
    "You will know 90% of the words in a book after...\n",
    "\n",
    "* 40 pages (16%) - Secret Adversary (75,208 words total)\n",
    "* 221 pages (25%) - Ulysses (261,202 words total)\n",
    "* 387 pages (53%) - Finnegans Wake (218,793 words total)"
   ]
  },
  {
   "cell_type": "markdown",
   "metadata": {
    "slideshow": {
     "slide_type": "slide"
    }
   },
   "source": [
    "**Design decision**: let's use the most frequent 10 words in the training set as our vocabulary."
   ]
  },
  {
   "cell_type": "code",
   "execution_count": null,
   "metadata": {
    "slideshow": {
     "slide_type": "fragment"
    }
   },
   "outputs": [],
   "source": [
    "def spacy_tokenizer(text):\n",
    "    return [token.text for token in nlp.tokenizer(text)]"
   ]
  },
  {
   "cell_type": "code",
   "execution_count": null,
   "metadata": {
    "slideshow": {
     "slide_type": "fragment"
    }
   },
   "outputs": [],
   "source": [
    "pipe = Pipeline([('vectorizer', CountVectorizer(tokenizer=spacy_tokenizer, max_features=10, binary=True)),\n",
    "                 ('classifier', tree.DecisionTreeClassifier(max_depth=3))])\n",
    "\n",
    "# pipeline will be updated in-place!\n",
    "pred = train_pipe_and_predict(pipe, X_train, y_train, X_test)\n",
    "\n",
    "# Model Accuracy\n",
    "print_results(y_test, pred)"
   ]
  },
  {
   "cell_type": "markdown",
   "metadata": {
    "slideshow": {
     "slide_type": "fragment"
    }
   },
   "source": [
    "We now have 50% accuracy - no better than chance - yikes! What happened?"
   ]
  },
  {
   "cell_type": "markdown",
   "metadata": {
    "slideshow": {
     "slide_type": "subslide"
    }
   },
   "source": [
    "Well, we did select only the top 10 tokens (`max_features=10`). What do you think the top 10 tokens are in the IMDb dataset?"
   ]
  },
  {
   "cell_type": "code",
   "execution_count": null,
   "metadata": {
    "slideshow": {
     "slide_type": "fragment"
    }
   },
   "outputs": [],
   "source": [
    "from collections import Counter\n",
    "\n",
    "token_freq = Counter()\n",
    "\n",
    "for corpus in [pos, neg]:\n",
    "    for text in tqdm(corpus.values(), total=len(corpus)):\n",
    "        # only call the tokenizer for speed purposes\n",
    "        doc = nlp.tokenizer(text)\n",
    "        \n",
    "        for token in doc:\n",
    "            # use 'orth', the integer version of the string\n",
    "            # will convert back to string version later\n",
    "            token_freq[token.orth] += 1\n",
    "\n",
    "# convert back to string\n",
    "token_freq = Counter({nlp.vocab.strings[k]: v for k, v in token_freq.items()})"
   ]
  },
  {
   "cell_type": "markdown",
   "metadata": {
    "slideshow": {
     "slide_type": "subslide"
    }
   },
   "source": [
    "## The most popular word in each state\n",
    "<img src=\"https://pbs.twimg.com/media/D627MpgW4AAqTNW?format=jpg&name=small\">"
   ]
  },
  {
   "cell_type": "code",
   "execution_count": null,
   "metadata": {
    "slideshow": {
     "slide_type": "subslide"
    }
   },
   "outputs": [],
   "source": [
    "token_freq.most_common(10)"
   ]
  },
  {
   "cell_type": "code",
   "execution_count": null,
   "metadata": {
    "slideshow": {
     "slide_type": "subslide"
    }
   },
   "outputs": [],
   "source": [
    "# look at the features for a single review\n",
    "# each row is a feature, and the 0/1 value is whether the feature is present in the review\n",
    "text = pos['10_9']\n",
    "print(text, end='\\n\\n')\n",
    "freq = pipe['vectorizer'].transform([text])[0].toarray()\n",
    "features = pipe['vectorizer'].get_feature_names_out()\n",
    "for i, feat in enumerate(features):\n",
    "    print(f'{feat:10s} {freq[0][i]:3d}')"
   ]
  },
  {
   "cell_type": "markdown",
   "metadata": {
    "slideshow": {
     "slide_type": "slide"
    }
   },
   "source": [
    "# Stop words\n",
    "\n",
    "* The tokens \"the\", \",\", etc have little meaning on their own\n",
    "* We call these \"stop words\".\n",
    "* **Stop word removal**: delete these words from the text."
   ]
  },
  {
   "cell_type": "code",
   "execution_count": null,
   "metadata": {
    "slideshow": {
     "slide_type": "fragment"
    }
   },
   "outputs": [],
   "source": [
    "def spacy_tokenizer(text):\n",
    "    return [token.text for token in nlp.tokenizer(text) if not token.is_punct and not token.is_stop]"
   ]
  },
  {
   "cell_type": "markdown",
   "metadata": {
    "slideshow": {
     "slide_type": "fragment"
    }
   },
   "source": [
    "Note: There is no universal list of stop words! Everyone has their own flavor, including spacy."
   ]
  },
  {
   "cell_type": "code",
   "execution_count": null,
   "metadata": {
    "slideshow": {
     "slide_type": "subslide"
    }
   },
   "outputs": [],
   "source": [
    "# train the model with our updated spacy_tokenizer, which removes stop words\n",
    "pipe = Pipeline([('vectorizer', CountVectorizer(tokenizer=spacy_tokenizer, max_features=10, binary=True)),\n",
    "                 ('classifier', tree.DecisionTreeClassifier(max_depth=3))])\n",
    "\n",
    "pred = train_pipe_and_predict(pipe, X_train, y_train, X_test)\n",
    "\n",
    "print_results(y_test, pred)"
   ]
  },
  {
   "cell_type": "code",
   "execution_count": null,
   "metadata": {
    "slideshow": {
     "slide_type": "subslide"
    }
   },
   "outputs": [],
   "source": [
    "graph = create_graph(pipe['classifier'], feature_names=pipe['vectorizer'].get_feature_names_out())\n",
    "Image(graph.create_png())"
   ]
  },
  {
   "cell_type": "code",
   "execution_count": null,
   "metadata": {
    "slideshow": {
     "slide_type": "subslide"
    }
   },
   "outputs": [],
   "source": [
    "text = pos['10_9']\n",
    "introspect_text(pipe, text)"
   ]
  },
  {
   "cell_type": "markdown",
   "metadata": {
    "slideshow": {
     "slide_type": "subslide"
    }
   },
   "source": [
    "## Compare approaches\n",
    "\n",
    "* Character binary: 57.8%.\n",
    "* Character counts: 55.4%.\n",
    "* Token binary: 49.5%.\n",
    "* Token stop word removal binary: **59.7%**."
   ]
  },
  {
   "cell_type": "markdown",
   "metadata": {
    "slideshow": {
     "slide_type": "subslide"
    }
   },
   "source": [
    "## Should you always remove stop words?"
   ]
  },
  {
   "cell_type": "markdown",
   "metadata": {
    "slideshow": {
     "slide_type": "fragment"
    }
   },
   "source": [
    "<img src=\"https://github.com/fastai/course-nlp/raw/master/images/skomoroch.png\">"
   ]
  },
  {
   "cell_type": "markdown",
   "metadata": {
    "slideshow": {
     "slide_type": "subslide"
    }
   },
   "source": [
    "## Should you always remove stop-words?\n",
    "\n",
    "Well - obviously the answer is no. But why was it helpful above?\n",
    "\n",
    "Answer: We had **already destroyed our document structure**.\n",
    "\n",
    "* The act of counting words removes any semblence of word order\n",
    "* Stop words frequently only have meaning when retaining text structure\n",
    "* Most obvious if you think about punctuation as stop words"
   ]
  },
  {
   "cell_type": "markdown",
   "metadata": {
    "slideshow": {
     "slide_type": "slide"
    }
   },
   "source": [
    "# Recap: we are trying to represent text as data\n",
    "\n",
    "So far, we have:\n",
    "\n",
    "* tried to use presence of letters (it was bad)\n",
    "* learned about tokenization (seems useful!)\n",
    "* learned that not all tokens are important (stop-words).. but sometimes they are important\n",
    "\n",
    "We are trying to do *useful* things with the data, and so when representing text, we have two considerations:\n",
    "\n",
    "* Increase the **efficiency** of our representation\n",
    "* Increase the **capacity** of our representation"
   ]
  },
  {
   "cell_type": "markdown",
   "metadata": {
    "slideshow": {
     "slide_type": "slide"
    }
   },
   "source": [
    "# Recap: we are trying to represent text as data\n",
    "\n",
    "**Efficiency**\n",
    "\n",
    "* don't make the model learn something twice\n",
    "* e.g. combine \"movie\" and \"movies\" into a single feature\n",
    "\n",
    "**Capacity**\n",
    "\n",
    "* give the model more flexibility to capture nuance\n",
    "* e.g. increase vocabulary size"
   ]
  },
  {
   "cell_type": "markdown",
   "metadata": {
    "slideshow": {
     "slide_type": "slide"
    }
   },
   "source": [
    "## Model improvement: counts instead of binary (capacity)\n",
    "\n",
    "Just like before, we can output token counts rather than 1s and 0s indicating word presence. Note the change below to `binary=False`."
   ]
  },
  {
   "cell_type": "code",
   "execution_count": null,
   "metadata": {
    "slideshow": {
     "slide_type": "subslide"
    }
   },
   "outputs": [],
   "source": [
    "# train the model with our updated spacy_tokenizer, which removes stop words\n",
    "pipe = Pipeline([('vectorizer', CountVectorizer(tokenizer=spacy_tokenizer, max_features=10, binary=False)),\n",
    "                 ('classifier', tree.DecisionTreeClassifier(max_depth=3))])\n",
    "\n",
    "pred = train_pipe_and_predict(pipe, X_train, y_train, X_test)\n",
    "\n",
    "print_results(y_test, pred)"
   ]
  },
  {
   "cell_type": "code",
   "execution_count": null,
   "metadata": {
    "slideshow": {
     "slide_type": "subslide"
    }
   },
   "outputs": [],
   "source": [
    "vectorizer = pipe.named_steps['vectorizer']\n",
    "classifier = pipe.named_steps['classifier']\n",
    "\n",
    "# blue = positive, orange = negative\n",
    "graph = create_graph(classifier, feature_names=vectorizer.get_feature_names_out())\n",
    "Image(graph.create_png())"
   ]
  },
  {
   "cell_type": "markdown",
   "metadata": {
    "slideshow": {
     "slide_type": "fragment"
    }
   },
   "source": [
    "We can see that the counts are being incorporated into the model:\n",
    "\n",
    "* \"good\" node requires at least 2 mentions\n",
    "* \"like\" node requires at least 2 mentions"
   ]
  },
  {
   "cell_type": "code",
   "execution_count": null,
   "metadata": {
    "scrolled": true,
    "slideshow": {
     "slide_type": "subslide"
    }
   },
   "outputs": [],
   "source": [
    "# look at an example with one \"great\" and two \"bad\" - bottom right node - these are always negative sentiment\n",
    "multiple_bad = [x for x in X_train if x.count('great') > 0.5 and x.count('bad') > 2.5]\n",
    "print(multiple_bad[0])"
   ]
  },
  {
   "cell_type": "markdown",
   "metadata": {
    "slideshow": {
     "slide_type": "subslide"
    }
   },
   "source": [
    "## Compare approaches\n",
    "\n",
    "* Character binary: 57.8%.\n",
    "* Character counts: 55.4%.\n",
    "* Token binary: 49.5%.\n",
    "* Token stop word removal binary: 59.7%.\n",
    "* Token stop word removal count: **63.0%**."
   ]
  },
  {
   "cell_type": "markdown",
   "metadata": {
    "slideshow": {
     "slide_type": "slide"
    }
   },
   "source": [
    "# Increase the vocabulary size (capacity)\n",
    "\n",
    "We were restricting our model to only 10 tokens - but this is a very small number. We can double it easily."
   ]
  },
  {
   "cell_type": "code",
   "execution_count": null,
   "metadata": {
    "slideshow": {
     "slide_type": "fragment"
    }
   },
   "outputs": [],
   "source": [
    "# we omit binary=False, as it is the default\n",
    "pipe = Pipeline([('vectorizer', CountVectorizer(tokenizer=spacy_tokenizer, max_features=20)),\n",
    "                 ('classifier', tree.DecisionTreeClassifier(max_depth=3))])\n",
    "\n",
    "pred = train_pipe_and_predict(pipe, X_train, y_train, X_test)\n",
    "\n",
    "print_results(y_test, pred)"
   ]
  },
  {
   "cell_type": "markdown",
   "metadata": {
    "slideshow": {
     "slide_type": "subslide"
    }
   },
   "source": [
    "## Compare approaches\n",
    "\n",
    "* Character binary: 57.8%.\n",
    "* Character counts: 55.4%.\n",
    "* Token binary: 49.5%.\n",
    "* Token stop word removal binary: 59.7%.\n",
    "* Token stop word removal count: 63.0%.\n",
    "* Token stop word removal count 20 tokens: **63.2%**."
   ]
  },
  {
   "cell_type": "code",
   "execution_count": null,
   "metadata": {
    "slideshow": {
     "slide_type": "subslide"
    }
   },
   "outputs": [],
   "source": [
    "text = pos['10_9']\n",
    "introspect_text(pipe, text)"
   ]
  },
  {
   "cell_type": "markdown",
   "metadata": {
    "slideshow": {
     "slide_type": "notes"
    }
   },
   "source": [
    "Notice the \"movie\" and \"movies\" - we have (functionally) the same word which is appearing twice. This is unideal - we would like to combine these together as the information we want to learn from a dataset would be the same for both."
   ]
  },
  {
   "cell_type": "markdown",
   "metadata": {
    "slideshow": {
     "slide_type": "subslide"
    }
   },
   "source": [
    "## Compare approaches\n",
    "\n",
    "We have done one of two things so far:\n",
    "\n",
    "* Increased **efficiency** of our model with respect to the data\n",
    "  * e.g. remove data we think won't help (stop words)\n",
    "* Increased **capacity** of our model\n",
    "  * e.g. add more features (10 -> 20)"
   ]
  },
  {
   "cell_type": "markdown",
   "metadata": {
    "slideshow": {
     "slide_type": "slide"
    }
   },
   "source": [
    "# Stemming\n",
    "\n",
    "- Many words have similar meaning but distinct morphology\n",
    "  * this was entertaining // i was entertained\n",
    "- Removing the end of the word is effective in grouping like terms\n",
    "  * movies -> movie\n",
    "  * entertaining -> entertain\n",
    "- This process is called \"stemming\""
   ]
  },
  {
   "cell_type": "markdown",
   "metadata": {
    "slideshow": {
     "slide_type": "subslide"
    }
   },
   "source": [
    "# Stemming implementations\n",
    "\n",
    "* [Porter Stemmer](https://tartarus.org/martin/PorterStemmer/): Most common, non-aggressive\n",
    "* [Snowball Stemmer](https://tartarus.org/martin/PorterStemmer/): Improvement over Porter Stemmer\n",
    "\n",
    "[Snowball Stemmer implementation is on GitHub](https://github.com/snowballstem/snowball/blob/master/python/snowballstemmer/basestemmer.py).\n",
    "\n",
    "```\n",
    "define Step_2 as (\n",
    "    [substring] R1 among (\n",
    "        'tional'  (<-'tion')\n",
    "        'enci'    (<-'ence')\n",
    "        'anci'    (<-'ance')\n",
    "```"
   ]
  },
  {
   "cell_type": "code",
   "execution_count": null,
   "metadata": {
    "slideshow": {
     "slide_type": "subslide"
    }
   },
   "outputs": [],
   "source": [
    "# spacy does not have a stemmer! We'll need to use nltk.\n",
    "from nltk.stem.snowball import SnowballStemmer\n",
    "stemmer = SnowballStemmer(language='english')\n",
    "\n",
    "def spacy_tokenizer(text):\n",
    "    return [stemmer.stem(token.text) for token in nlp.tokenizer(text) if not token.is_punct and not token.is_stop]"
   ]
  },
  {
   "cell_type": "code",
   "execution_count": null,
   "metadata": {
    "slideshow": {
     "slide_type": "subslide"
    }
   },
   "outputs": [],
   "source": [
    "pipe = Pipeline([('vectorizer', CountVectorizer(tokenizer=spacy_tokenizer, max_features=20)),\n",
    "                 ('classifier', tree.DecisionTreeClassifier(max_depth=3))])\n",
    "\n",
    "pred = train_pipe_and_predict(pipe, X_train, y_train, X_test)\n",
    "\n",
    "print_results(y_test, pred)"
   ]
  },
  {
   "cell_type": "markdown",
   "metadata": {
    "slideshow": {
     "slide_type": "subslide"
    }
   },
   "source": [
    "## Compare approaches\n",
    "\n",
    "* Character binary: 57.8%.\n",
    "* Character counts: 55.4%.\n",
    "* Token binary: 49.5%.\n",
    "* Token stop word removal binary: 59.7%.\n",
    "* Token stop word removal count: 63.0%.\n",
    "* Token stop word removal count 20 features: 63.2%.\n",
    "* Token, stop word removal, count, 20 features, stemmed: **65.8%**.\n",
    "  * improved *efficiency* of learning by merging similar words through lemmatization"
   ]
  },
  {
   "cell_type": "code",
   "execution_count": null,
   "metadata": {
    "slideshow": {
     "slide_type": "subslide"
    }
   },
   "outputs": [],
   "source": [
    "text = pos['10_9']\n",
    "introspect_text(pipe, text)"
   ]
  },
  {
   "cell_type": "markdown",
   "metadata": {
    "slideshow": {
     "slide_type": "fragment"
    }
   },
   "source": [
    "* No longer dictionary words\n",
    "* words like character and characters are combined into charact\n",
    "* words like play and playing are also combined"
   ]
  },
  {
   "cell_type": "markdown",
   "metadata": {
    "slideshow": {
     "slide_type": "slide"
    }
   },
   "source": [
    "# Lemmatization\n",
    "\n",
    "* With stemming, we applied an algorithm to simplify the text\n",
    "* With lemmatization, we use *knowledge* - a lexicon\n",
    "  * swing == swung"
   ]
  },
  {
   "cell_type": "code",
   "execution_count": null,
   "metadata": {
    "slideshow": {
     "slide_type": "subslide"
    }
   },
   "outputs": [],
   "source": [
    "text = pos['10_9']\n",
    "doc = nlp(text)\n",
    "for token in doc[:4]:\n",
    "    print(f'{token.text:15s} -> {token.lemma_:15s}')"
   ]
  },
  {
   "cell_type": "code",
   "execution_count": null,
   "metadata": {
    "slideshow": {
     "slide_type": "subslide"
    }
   },
   "outputs": [],
   "source": [
    "def spacy_tokenizer(text):\n",
    "    # note we call nlp(text) now\n",
    "    # lemmatizing is slow compared to tokenizing\n",
    "    # HOWEVER, if using spacy, we should really use spacy's nlp.pipe, which lets us batch/multithread\n",
    "    return [\n",
    "        token.lemma_ for token in nlp(text)\n",
    "        if not token.is_punct and not token.is_stop\n",
    "    ]"
   ]
  },
  {
   "cell_type": "code",
   "execution_count": null,
   "metadata": {
    "scrolled": true,
    "slideshow": {
     "slide_type": "subslide"
    }
   },
   "outputs": [],
   "source": [
    "pipe = Pipeline([('vectorizer', CountVectorizer(tokenizer=spacy_tokenizer, max_features=20)),\n",
    "                 ('classifier', tree.DecisionTreeClassifier(max_depth=3))])\n",
    "\n",
    "pred = train_pipe_and_predict(pipe, X_train, y_train, X_test)\n",
    "\n",
    "print_results(y_test, pred)"
   ]
  },
  {
   "cell_type": "markdown",
   "metadata": {
    "slideshow": {
     "slide_type": "subslide"
    }
   },
   "source": [
    "## Compare approaches\n",
    "\n",
    "* Character binary: 57.8%.\n",
    "* Character counts: 55.4%.\n",
    "* Token binary: 49.5%.\n",
    "* Token stop word removal binary: 59.7%.\n",
    "* Token stop word removal count: 63.0%.\n",
    "* Token stop word removal count 20 features: 63.2%.\n",
    "* Token, stop word removal, count, 20 features, stemmed: 65.8%.\n",
    "* **Token, stop word removal, count, 20 features, lemmatized: 68.2%**.\n",
    "  * improved *efficiency* of learning by merging similar words through lemmatization"
   ]
  },
  {
   "cell_type": "markdown",
   "metadata": {
    "slideshow": {
     "slide_type": "slide"
    }
   },
   "source": [
    "# What else could we do to improve performance?\n",
    "\n",
    "Here's what we've done so far:\n",
    "\n",
    "* binary features -> counts (efficiency)\n",
    "* characters -> words (efficiency)\n",
    "* preprocessing: stop word removal (efficiency)\n",
    "* preprocessing: stem/lemmatize (efficiency)\n",
    "* 10 features -> 20 features (capacity)"
   ]
  },
  {
   "cell_type": "markdown",
   "metadata": {
    "slideshow": {
     "slide_type": "subslide"
    }
   },
   "source": [
    "# What else could we do to improve performance?\n",
    "\n",
    "Move beyond counting words as our features!\n",
    "\n",
    "Vectorization Method | Considerations\n",
    "--- | ---\n",
    "One-hot encoding (binary) | All words equidistant, so normalization extra important\n",
    "Term frequency (counting) | Most frequent words not always most informative\n",
    "Term frequency + dim. reduction (e.g. PCA) | Assumes only linear correlation is informative\n",
    "Term Frequency Inverse Document Frequency (TF–IDF) | Moderately frequent terms may not be representative of document topics slow for large vocab, assumes words independently drive similarity\n",
    "Distributed Representations | TBD!\n",
    "\n",
    "Read more at [Applied Text Analysis, Chapter 4, Text Vectorization and Transformation Pipelines](https://www.oreilly.com/library/view/applied-text-analysis/9781491963036/ch04.html)."
   ]
  },
  {
   "cell_type": "markdown",
   "metadata": {
    "slideshow": {
     "slide_type": "subslide"
    }
   },
   "source": [
    "# What else could we do to improve performance?\n",
    "\n",
    "* Before: characters -> words\n",
    "* Now: words -> groups of words, i.e. n-grams\n",
    "* \"hidden gem\"\n",
    "\n",
    "<img src=\"img/hidden_gem.jpeg\" width=600>"
   ]
  },
  {
   "cell_type": "markdown",
   "metadata": {
    "slideshow": {
     "slide_type": "subslide"
    }
   },
   "source": [
    "# What else could we do to improve performance?\n",
    "\n",
    "... whatever we can think of!\n",
    "\n",
    "Let's look at an example from a recent paper."
   ]
  },
  {
   "cell_type": "markdown",
   "metadata": {
    "slideshow": {
     "slide_type": "slide"
    }
   },
   "source": [
    "# Example from a paper - Named Entity Recognition\n",
    "\n",
    "Classify the individual tokens in a text."
   ]
  },
  {
   "cell_type": "code",
   "execution_count": null,
   "metadata": {
    "slideshow": {
     "slide_type": "fragment"
    }
   },
   "outputs": [],
   "source": [
    "text = \"Alistair Johnson saw me last Monday the 24th.\"\n",
    "targets = ['NAME', 'NAME', 'O', 'O', 'O', 'DATE', 'DATE', 'DATE']\n",
    "\n",
    "for i, token in enumerate(text.split(' ')):\n",
    "    print(f'{token:15s} -> f(x) = {targets[i]}')"
   ]
  },
  {
   "cell_type": "markdown",
   "metadata": {
    "slideshow": {
     "slide_type": "notes"
    }
   },
   "source": [
    "One interesting NLP task is deidentification: label words in a document as names, dates, etc. This task is extremely important for healthcare applications, and research data usually needs to be deidentified before use."
   ]
  },
  {
   "cell_type": "markdown",
   "metadata": {
    "slideshow": {
     "slide_type": "slide"
    }
   },
   "source": [
    "<img src=\"img/deid_approach.jpg\" width=400>\n",
    "\n",
    "[1] Lee HJ, Wu Y, Zhang Y, Xu J, Xu H, Roberts K. A hybrid approach to automatic de-identification of psychiatric notes. Journal of biomedical informatics. 2017 Nov 1;75:S19-27.\n",
    "https://doi.org/10.1016/j.jbi.2017.06.006"
   ]
  },
  {
   "cell_type": "markdown",
   "metadata": {
    "slideshow": {
     "slide_type": "subslide"
    }
   },
   "source": [
    "# What type of features can we build?\n",
    "\n",
    "* **Bag-of-words**: unigrams, bigrams and trigrams of words within a window of [-2, 2].\n",
    "\n",
    "Same as before, **except** we have switched from text classification to named entity recognition. That is, we are classifying *words* rather than the entire document, so we'll have a vector for each word, and there is a \"window\" around each word from which we'll extract data.\n",
    "\n",
    "<img src=\"img/nlp_word_window.png\" width=500>\n"
   ]
  },
  {
   "cell_type": "code",
   "execution_count": null,
   "metadata": {
    "slideshow": {
     "slide_type": "subslide"
    }
   },
   "outputs": [],
   "source": [
    "unigrams = ['Monday', 'Tuesday']\n",
    "print(f'{\"Entity\":15s} -> [{\", \".join(unigrams)}, ...]')\n",
    "tokens = text.split(' ')\n",
    "for i, token in enumerate(tokens):\n",
    "    start, stop = max(i-2, 0), min(i+2+1, len(tokens))\n",
    "    feature = [int(gram in tokens[start:stop]) for gram in unigrams]\n",
    "        \n",
    "    print(f'{token:15s} -> {\", \".join(map(str, feature))}, ...')"
   ]
  },
  {
   "cell_type": "markdown",
   "metadata": {
    "slideshow": {
     "slide_type": "notes"
    }
   },
   "source": [
    "If we look at the word \"me\" - it is two words before Monday, so the feature is True (1). Contrast this with \"saw\", which is too many words away. This is a very rudimentary way of encoding context into the feature for a word."
   ]
  },
  {
   "cell_type": "markdown",
   "metadata": {
    "slideshow": {
     "slide_type": "slide"
    }
   },
   "source": [
    "* **Bag-of-words**: unigrams, bigrams and trigrams of words within a window of [-2, 2].\n",
    "* **Part-of-speech (POS) tags**: unigrams, bigrams and trigrams of POS tags within a window of [−2, 2]. The Stanford POS Tagger [42] was used for POS tagging."
   ]
  },
  {
   "cell_type": "code",
   "execution_count": null,
   "metadata": {
    "slideshow": {
     "slide_type": "fragment"
    }
   },
   "outputs": [],
   "source": [
    "# spaCy has nifty functionality for understanding some of its outputs through spacy.explain\n",
    "nlp = spacy.load('en_core_web_sm')\n",
    "doc = nlp(text)\n",
    "for token in doc:\n",
    "    print(f'{token.text:15s}{token.tag_:5s}{spacy.explain(token.tag_)}')"
   ]
  },
  {
   "cell_type": "code",
   "execution_count": null,
   "metadata": {
    "slideshow": {
     "slide_type": "skip"
    }
   },
   "outputs": [],
   "source": [
    "# we can also show a parse tree\n",
    "from spacy import displacy\n",
    "displacy.render(doc, style='dep', jupyter=True)"
   ]
  },
  {
   "cell_type": "markdown",
   "metadata": {
    "slideshow": {
     "slide_type": "notes"
    }
   },
   "source": [
    "The above is a dependency parse of the sentence:\n",
    "\n",
    "* Notice how there are words which is a root: \"saw\"\n",
    "* The `nsubj` of \"saw\" in \"Johnson\"\n",
    "* \"Johnson\" is a proper noun (`PROPN`).\n",
    "\n",
    "Our model is described online: https://spacy.io/models/en#en_core_web_sm\n",
    "\n",
    "Though we can use `spacy.explain` to figure out what a tag means."
   ]
  },
  {
   "cell_type": "markdown",
   "metadata": {
    "slideshow": {
     "slide_type": "subslide"
    }
   },
   "source": [
    "* **Bag-of-words**: unigrams, bigrams and trigrams of words within a window of [-2, 2].\n",
    "* **Part-of-speech (POS) tags**: unigrams, bigrams and trigrams of POS tags within a window of [−2, 2]. The Stanford POS Tagger [42] was used for POS tagging.\n",
    "* **Word shapes**: mapping any or consecutive uppercase character(s), lowercase character(s), digit(s) and other character(s) in current word to ’ A’, ’ a’, ’ #’ and ’ -’ respectively. For instance, the word shapes of “Hospital” are “Aaaaaaaa” and “Aa”."
   ]
  },
  {
   "cell_type": "code",
   "execution_count": null,
   "metadata": {
    "slideshow": {
     "slide_type": "fragment"
    }
   },
   "outputs": [],
   "source": [
    "word_shapes = []\n",
    "for token in tokens:\n",
    "    shape = ''\n",
    "    for letter in token:\n",
    "        if letter in 'ABCDEFGHIJKLMNOPQRSTUVWXYZ':\n",
    "            shape += 'A'\n",
    "        # note the bug in the below if statement :)\n",
    "        elif letter in 'abcdefghijklmnopqrstuvwxtz':\n",
    "            shape += 'a'\n",
    "        elif letter in '0123456789':\n",
    "            shape += '#'\n",
    "        else:\n",
    "            shape += '-'\n",
    "    word_shapes.append(shape)\n",
    "    print(f'{token:15s} {shape}')"
   ]
  },
  {
   "cell_type": "markdown",
   "metadata": {
    "slideshow": {
     "slide_type": "notes"
    }
   },
   "source": [
    "Note the mistake - forgot a 'y' in one of the if statements.\n",
    "\n",
    "There must be a simpler way!"
   ]
  },
  {
   "cell_type": "markdown",
   "metadata": {
    "slideshow": {
     "slide_type": "slide"
    }
   },
   "source": [
    "# Regular expressions (regex)\n",
    "\n",
    "* Regex: match patterns in text\n",
    "    * Concise and powerful pattern matching language\n",
    "    * Supported by many computer languages, including SQL\n",
    "* Challenges\n",
    "    * Brittle\n",
    "    * Hard to write, can get complex to be correct\n",
    "    * Hard to read\n"
   ]
  },
  {
   "cell_type": "code",
   "execution_count": null,
   "metadata": {
    "slideshow": {
     "slide_type": "subslide"
    }
   },
   "outputs": [],
   "source": [
    "import re\n",
    "\n",
    "text_modified = str(text)\n",
    "print(text_modified)"
   ]
  },
  {
   "cell_type": "markdown",
   "metadata": {
    "slideshow": {
     "slide_type": "subslide"
    }
   },
   "source": [
    "Replace capital letters with 'A'."
   ]
  },
  {
   "cell_type": "code",
   "execution_count": null,
   "metadata": {
    "slideshow": {
     "slide_type": "fragment"
    }
   },
   "outputs": [],
   "source": [
    "text_modified = re.sub('[A-Z]', 'A', text_modified)\n",
    "print(text_modified)"
   ]
  },
  {
   "cell_type": "markdown",
   "metadata": {
    "slideshow": {
     "slide_type": "subslide"
    }
   },
   "source": [
    "Replace lower case letters with 'a'."
   ]
  },
  {
   "cell_type": "code",
   "execution_count": null,
   "metadata": {
    "slideshow": {
     "slide_type": "fragment"
    }
   },
   "outputs": [],
   "source": [
    "text_modified = re.sub('[a-z]', 'a', text_modified)\n",
    "print(text_modified)"
   ]
  },
  {
   "cell_type": "markdown",
   "metadata": {
    "slideshow": {
     "slide_type": "subslide"
    }
   },
   "source": [
    "Replace numbers with '#'."
   ]
  },
  {
   "cell_type": "code",
   "execution_count": null,
   "metadata": {
    "slideshow": {
     "slide_type": "fragment"
    }
   },
   "outputs": [],
   "source": [
    "text_modified = re.sub('[0-9]', '#', text_modified)\n",
    "print(text_modified)"
   ]
  },
  {
   "cell_type": "markdown",
   "metadata": {
    "slideshow": {
     "slide_type": "subslide"
    }
   },
   "source": [
    "Replace the rest with '-'."
   ]
  },
  {
   "cell_type": "code",
   "execution_count": null,
   "metadata": {
    "slideshow": {
     "slide_type": "fragment"
    }
   },
   "outputs": [],
   "source": [
    "text_modified = re.sub('[^Aa# ]', '-', text_modified)\n",
    "print(text_modified)"
   ]
  },
  {
   "cell_type": "markdown",
   "metadata": {
    "slideshow": {
     "slide_type": "slide"
    }
   },
   "source": [
    "# Features extracted in this *one* paper\n",
    "\n",
    "* **Bag-of-words**: unigrams, bigrams and trigrams of words within a window of [-2, 2].\n",
    "* **Part-of-speech (POS) tags**: unigrams, bigrams and trigrams of POS tags within a window of [−2, 2]. The Stanford POS Tagger [42] was used for POS tagging.\n",
    "* **Word shapes**: mapping any or consecutive uppercase character(s), lowercase character(s), digit(s) and other character(s) in current word to ’ A’, ’ a’, ’ #’ and ’ -’ respectively. For instance, the word shapes of “Hospital” are “Aaaaaaaa” and “Aa”.\n",
    "* **Combinations of words and POS tags**: combining current word with the unigrams, bigrams and trigrams of POS tags within a window of [−1, 1], i.e. w0p−1, w0p0, w0p1, w0p−1p0, w0p0p1, w0p−1p1, w0p−1p0p1, where w0, p−1, p0 and p1 denote current word, last, current and next POS tags respectively.\n",
    "* **Sentence information**: number of words in current sentence, whether there is an end mark at the end of current sentence such as ’.’, ’?’ and ’!’, whether there is any bracket unmatched in current sentence.\n",
    "* **Affixes**: prefixes and suffixes of length from 1 to 5.\n",
    "* **Orthographical features**: whether the word is upper case, contains uppercase characters, contains punctuation marks, contains digits, etc.\n",
    "* **Section information**: twenty-nine section headers (see the supplementary file) were collected manually such as “History of Present Illness”; we check which section current word belongs to.\n",
    "* **General NER information**: the Stanford Named Entity Recognizer [43] was used to generate the NER tags of current word, include: person, date, organization, location, and number tags, etc."
   ]
  },
  {
   "cell_type": "markdown",
   "metadata": {
    "slideshow": {
     "slide_type": "subslide"
    }
   },
   "source": [
    "# Features extracted in this *one* paper\n",
    "\n",
    "Happily, many NLP libraries have these features built in!\n",
    "\n",
    "For example, named entity recognition."
   ]
  },
  {
   "cell_type": "code",
   "execution_count": null,
   "metadata": {
    "slideshow": {
     "slide_type": "fragment"
    }
   },
   "outputs": [],
   "source": [
    "displacy.render(doc, style='ent', jupyter=True)"
   ]
  },
  {
   "cell_type": "markdown",
   "metadata": {
    "slideshow": {
     "slide_type": "subslide"
    }
   },
   "source": [
    "# Word embeddings\n",
    "\n",
    "We have slowly improved the representation of our text\n",
    "\n",
    "Initially we had characters."
   ]
  },
  {
   "cell_type": "code",
   "execution_count": null,
   "metadata": {
    "slideshow": {
     "slide_type": "fragment"
    }
   },
   "outputs": [],
   "source": [
    "# visualize the data with the sentence\n",
    "alphabet = 'abcdefghijklmnopqrstuvwxyz'\n",
    "X = prepare_data(sentences, alphabet=alphabet)\n",
    "print(alphabet)\n",
    "for i, sentence_vector in enumerate(X):\n",
    "    print(''.join([str(c) for c in sentence_vector]), end=' ')\n",
    "    print(sentences[i])"
   ]
  },
  {
   "cell_type": "markdown",
   "metadata": {
    "slideshow": {
     "slide_type": "subslide"
    }
   },
   "source": [
    "# Word embeddings\n",
    "\n",
    "We have slowly improved the representation of our text\n",
    "\n",
    "Then we moved to tokens, mostly word tokens."
   ]
  },
  {
   "cell_type": "code",
   "execution_count": null,
   "metadata": {
    "slideshow": {
     "slide_type": "fragment"
    }
   },
   "outputs": [],
   "source": [
    "# visualize the data with the sentence\n",
    "alphabet = ['good', 'great', 'worst']\n",
    "X = prepare_data(sentences, alphabet=alphabet)\n",
    "print(' '.join([f'{c:10s}' for c in alphabet]))\n",
    "for i, sentence_vector in enumerate(X):\n",
    "    print(' '.join([f'{c:10d}' for c in sentence_vector]), end=' ')\n",
    "    print(sentences[i])"
   ]
  },
  {
   "cell_type": "markdown",
   "metadata": {
    "slideshow": {
     "slide_type": "subslide"
    }
   },
   "source": [
    "# Word embeddings\n",
    "\n",
    "Intuitively, we know \"good\" and \"great\" are similar.\n",
    "\n",
    "**But the model has no mechanism for accounting for this**. Anything it learns about good, it must also learn about great.\n",
    "\n",
    "-> we don't *share* knowledge between \"good\" and \"great\""
   ]
  },
  {
   "cell_type": "markdown",
   "metadata": {
    "slideshow": {
     "slide_type": "subslide"
    }
   },
   "source": [
    "# Manually creating word embeddings\n",
    "\n",
    "We could manually create these features - especially if we have a thesaurus! Synonyms for good (as a noun):\n",
    "\n",
    "1. that which is morally right; righteousness.\n",
    "    * \"virtue\", \"righteousness\", \"virtuousness\", \"goodness\", \"morality\", \"ethicalness\", \"uprightness\", \"upstandingness\", \"integrity\", \"principle\", \"dignity\", \"rectitude\", \"rightness\", \"honesty\", \"truth\", \"truthfulness\", \"honor\", \"incorruptibility\", \"probity\", \"propriety\", \"worthiness\", \"worth\", \"merit\", \"irreproachableness\", \"blamelessness\", \"purity\", \"pureness\", \"lack of corruption\", \"justice\", \"justness\", \"fairness\"\n",
    "2. benefit or advantage to someone or something.\n",
    "    * \"benefit\", \"advantage\", \"profit\", \"gain\", \"interest\", \"welfare\", \"well-being\", \"enjoyment\", \"satisfaction\", \"comfort\", \"ease\", \"convenience\", \"help\", \"aid\", "
   ]
  },
  {
   "cell_type": "markdown",
   "metadata": {
    "slideshow": {
     "slide_type": "subslide"
    }
   },
   "source": [
    "# Manually creating word embeddings\n",
    "\n",
    "\n",
    "But \"good\" has different meanings depending on its part of speech. When used as an adjective, we have many more options.. \n",
    "\n",
    "3. having the qualities required for a particular role.\n",
    "    * \"fine\", \"quality\", \"superior\", \"excellent\", \"superb\", \"outstanding\", \"magnificent\", \"exceptional\", \"marvelous\", \"wonderful\", \"first-rate\", \"first-class\", \"splendid\", \"ambrosial\"\n",
    "4. skilled at doing or dealing with a specified thing.\n",
    "    * \"capable\", \"able\", \"proficient\", \"adept\", \"adroit\", \"accomplished\", \"seasoned\", \"skillful\", \"skilled\", \"gifted\", \"talented\", \"masterly\", \"virtuoso\", \"expert\", \"knowledgeable\", \"qualified\", \"trained\", \"great\", \"mean\", \"wicked\", \"deadly\", \"nifty\", \"crack\", \"super\", \"ace\", \"wizard\", \"magic\"\n",
    "5. useful, advantageous, or beneficial in effect.\n",
    "    * \"wholesome\", \"health-giving\", \"healthful\", \"healthy\", \"nourishing\", \"nutritious\", \"nutritional\", \"strengthening\", \"beneficial\", \"salubrious\", \"salutary\"\n",
    "6. appropriate to a particular purpose.\n",
    "    * \"convenient\", \"suitable\", \"appropriate\", \"fitting\", \"fit\", \"suited\", \"agreeable\", \"opportune\", \"timely\", \"well timed\", \"favorable\", \"advantageous\", \"expedient\", \"felicitous\", \"propitious\", \"auspicious\", \"happy\", \"providential\", \"commodious\", \"seasonable\"\n",
    "7. possessing or displaying moral virtue.\n",
    "    * \"virtuous\", \"righteous\", \"moral\", \"morally correct\", \"ethical\", \"upright\", \"upstanding\", \"high-minded\", \"right-minded\", \"right-thinking\", \"principled\", \"exemplary\", \"clean\", \"law-abiding\", \"lawful\", \"irreproachable\", \"blameless\", \"guiltless\", \"unimpeachable\", \"just\", \"honest\", \"honorable\", \"unbribable\", \"incorruptible\", \"anticorruption\", \"scrupulous\", \"reputable\", \"decent\", \"respectable\", \"noble\", \"lofty\", \"elevated\", \"worthy\", \"trustworthy\", \"meritorious\", \"praiseworthy\", \"commendable\", \"admirable\", \"laudable\", \"pure\", \"pure as the driven snow\", \"whiter than white\", \"sinless\", \"saintly\", \"saintlike\", \"godly\", \"angelic\", \"squeaky clean\"\n",
    "8. showing kindness.\n",
    "    * \"kind\", \"kindly\", \"kindhearted\", \"good-hearted\", \"friendly\", \"obliging\", \"generous\", \"charitable\", \"magnanimous\", \"gracious\", \"sympathetic\", \"benevolent\", \"benign\", \"altruistic\", \"unselfish\", \"selfless\"\n",
    "9. obedient to rules or conventions.\n",
    "    * \"well behaved\", \"obedient\", \"dutiful\", \"well mannered\", \"well brought up\", \"polite\", \"civil\", \"courteous\", \"respectful\", \"deferential\", \"manageable\", \"compliant\", \"acquiescent\", \"tractable\", \"malleable\", \"right\", \"correct\", \"proper\", \"decorous\", \"seemly\", \"appropriate\", \"fitting\", \"apt\", \"suitable\", \"convenient\", \"expedient\", \"favorable\", \"auspicious\", \"propitious\", \"opportune\", \"felicitous\", \"timely\", \"well judged\", \"well timed\", \"meet\", \"seasonable\"\n",
    "10. giving pleasure; enjoyable or satisfying.\n",
    "    * \"enjoyable\", \"pleasant\", \"agreeable\", \"pleasing\", \"pleasurable\", \"delightful\", \"great\", \"nice\", \"lovely\", \"amusing\", \"diverting\", \"jolly\", \"merry\", \"lively\", \"festive\", \"cheerful\", \"convivial\", \"congenial\", \"sociable\", \"super\", \"fantastic\", \"fabulous\", \"fab\", \"terrific\", \"glorious\", \"grand\", \"magic\", \"out of this world\", \"cool\", \"brilliant\", \"brill\", \"smashing\", \"peachy\", \"neat\", \"ducky\", \"beaut\", \"bonzer\", \"capital\", \"wizard\", \"corking\", \"spiffing\", \"ripping\", \"top-hole\", \"topping\", \"champion\", \"beezer\", \"swell\", \"frabjous\"\n",
    "11. (of clothes) smart and suitable for formal wear.\n",
    "    * \"best\", \"finest\", \"newest\", \"nice\", \"nicest\", \"smart\", \"smartest\", \"special\", \"party\", \"Sunday\", \"formal\", \"dressy\", \"Opposite\", \"casual\", \"scruffy\", \n"
   ]
  },
  {
   "cell_type": "markdown",
   "metadata": {
    "slideshow": {
     "slide_type": "subslide"
    }
   },
   "source": [
    "# Manually creating word embeddings\n",
    "\n",
    "And that's not all! The meaning of \"good\" depends on its *context*.\n",
    "\n",
    "12. Very good\n",
    "  * \"admirable\", \"brilliant\", \"exceptional\", \"fantastic\"\n",
    "13. Be good\n",
    "  * \"manage\", \"comport oneself\", \"act with decorum\", \"be civil\"\n",
    "\n",
    "\n",
    "We have one word and 13 features already - and we haven't even been exhaustive. We need a new approach. Wouldn't it be great if we could instead *learn* these features, rather than manually engineer them?"
   ]
  },
  {
   "cell_type": "markdown",
   "metadata": {
    "slideshow": {
     "slide_type": "slide"
    }
   },
   "source": [
    "# Distributional hypothesis\n",
    "\n",
    "* Does language have a distributional structure? [1]\n",
    "\n",
    "*structure*:\n",
    "\n",
    "> A set of phonemes or a set of data is structured in respect to some feature, to the extent that we can form in terms of that feature some organized system of statements which describes the members of the set and their interrelations (at least up to some limit of complexity).\n",
    "\n",
    "*distributional*:\n",
    "\n",
    "> The distribution of an element will be understood as the sum of all its environments. An environment of an element A is an existing array of its co-occurrents, i.e. the other elements, each in a  particular position, with which A occurs to yield an utterance.\n",
    "\n",
    "-> you're known by the company you keep\n",
    "\n",
    "[1] Harris ZS. Distributional structure. Word. 1954 Aug 1;10(2-3):146-62.\n",
    "[PDF](https://www.tandfonline.com/doi/pdf/10.1080/00437956.1954.11659520)."
   ]
  },
  {
   "cell_type": "markdown",
   "metadata": {
    "slideshow": {
     "slide_type": "slide"
    }
   },
   "source": [
    "# word2vec\n",
    "\n",
    "Learn these features, rather than manually create them.\n",
    "\n",
    "1. Take a whole bunch of text\n",
    "2. Try to predict a word's *context* form the word itself (\"skip-grams\")\n",
    "3. Use the model's representation of words (tokens)"
   ]
  },
  {
   "cell_type": "markdown",
   "metadata": {
    "slideshow": {
     "slide_type": "subslide"
    }
   },
   "source": [
    "(target word, context word)\n",
    "\n",
    "<img src=\"img/word2vec_skipgram.png\" width=400>\n",
    "\n",
    "[1] https://www.tensorflow.org/tutorials/text/word2vec"
   ]
  },
  {
   "cell_type": "markdown",
   "metadata": {
    "slideshow": {
     "slide_type": "notes"
    }
   },
   "source": [
    "This works great in theory - except we're going to end up with 10,000s of outputs for 10,000s of inputs.\n",
    "\n",
    "Instead of predicting the *word*, let's just predict yes/no \"is this word a neighbour?\"."
   ]
  },
  {
   "cell_type": "markdown",
   "metadata": {
    "slideshow": {
     "slide_type": "subslide"
    }
   },
   "source": [
    "<img src='img/skipgram-with-negative-sampling.png' width=\"800\">\n",
    "\n",
    "[1] https://jalammar.github.io/illustrated-word2vec/"
   ]
  },
  {
   "cell_type": "markdown",
   "metadata": {
    "slideshow": {
     "slide_type": "notes"
    }
   },
   "source": [
    "We also need to create negative samples - and to do that, we pair our word (\"make\") with randomly generated words from our vocabulary. The result is fantastically useful - instead of 10,000 features (0/1 for each token), we now have an *embedding*, which is a denser representation of the words along dimensions related to their use in sentences.\n",
    "\n",
    "Further reading on word vectors\n",
    "\n",
    "* https://blog.acolyer.org/2016/04/21/the-amazing-power-of-word-vectors/"
   ]
  },
  {
   "cell_type": "code",
   "execution_count": null,
   "metadata": {
    "slideshow": {
     "slide_type": "subslide"
    }
   },
   "outputs": [],
   "source": [
    "nlp = spacy.load(\"en_core_web_sm\")\n",
    "text = 'good great capable wholesome convenient virtuous kind virtue'\n",
    "tokens = nlp(text)\n",
    "\n",
    "vectors = []\n",
    "\n",
    "for token in tokens:\n",
    "    print(f'{token.text:10s}{token.has_vector} {token.vector_norm} {[f\"{t:1.2f}\" for t in token.vector[:5]]} ...')\n",
    "    vectors.append(token.vector)\n",
    "\n",
    "vectors = np.vstack(vectors)"
   ]
  },
  {
   "cell_type": "code",
   "execution_count": null,
   "metadata": {
    "scrolled": false,
    "slideshow": {
     "slide_type": "subslide"
    }
   },
   "outputs": [],
   "source": [
    "import seaborn as sns\n",
    "import matplotlib.pyplot as plt\n",
    "\n",
    "plt.figure(figsize=[12, 8])\n",
    "sns.heatmap(vectors, yticklabels=[token.text for token in tokens])\n",
    "plt.show()"
   ]
  },
  {
   "cell_type": "markdown",
   "metadata": {
    "slideshow": {
     "slide_type": "skip"
    }
   },
   "source": [
    "Remember that the embedding dimension (x-axis) has no intrinsic order - so we can re-order it to make it easier to see relations"
   ]
  },
  {
   "cell_type": "code",
   "execution_count": null,
   "metadata": {
    "slideshow": {
     "slide_type": "skip"
    }
   },
   "outputs": [],
   "source": [
    "from scipy.spatial.distance import pdist, cdist\n",
    "from seriate import seriate\n",
    "reorder_dims = seriate(pdist(vectors.T, metric='cosine'))\n",
    "plt.figure(figsize=[12, 8])\n",
    "sns.heatmap(vectors[:, reorder_dims], yticklabels=[token.text for token in tokens])\n",
    "plt.gca().axes.xaxis.set_ticklabels([])\n",
    "plt.show()"
   ]
  },
  {
   "cell_type": "code",
   "execution_count": null,
   "metadata": {
    "slideshow": {
     "slide_type": "fragment"
    }
   },
   "outputs": [],
   "source": [
    "nlp = spacy.load(\"en_core_web_md\")\n",
    "X_train_vectors = []\n",
    "X_test_vectors = []\n",
    "# only enable the vectorize step to speed up processing\n",
    "with nlp.select_pipes(enable=\"tok2vec\"):\n",
    "    for text in tqdm(X_train, total=X_train.shape[0]):\n",
    "        doc = nlp(str(text))\n",
    "        # doc.vector contains the average of all token vectors\n",
    "        X_train_vectors.append(doc.vector)\n",
    "\n",
    "    for text in tqdm(X_test, total=X_test.shape[0]):\n",
    "        doc = nlp(str(text))\n",
    "        X_test_vectors.append(doc.vector)\n",
    "\n",
    "X_train_vectors = np.vstack(X_train_vectors)\n",
    "X_test_vectors = np.vstack(X_test_vectors)"
   ]
  },
  {
   "cell_type": "code",
   "execution_count": null,
   "metadata": {
    "slideshow": {
     "slide_type": "subslide"
    }
   },
   "outputs": [],
   "source": [
    "pipe = Pipeline([('classifier', tree.DecisionTreeClassifier(max_depth=3))])\n",
    "\n",
    "pred = train_pipe_and_predict(pipe, X_train_vectors, y_train, X_test_vectors)\n",
    "\n",
    "print_results(y_test, pred)"
   ]
  },
  {
   "cell_type": "code",
   "execution_count": null,
   "metadata": {
    "slideshow": {
     "slide_type": "subslide"
    }
   },
   "outputs": [],
   "source": [
    "classifier = pipe.named_steps['classifier']\n",
    "\n",
    "# blue = positive, orange = negative\n",
    "graph = create_graph(classifier)\n",
    "Image(graph.create_png())"
   ]
  },
  {
   "cell_type": "code",
   "execution_count": null,
   "metadata": {
    "slideshow": {
     "slide_type": "skip"
    }
   },
   "outputs": [],
   "source": [
    "from sklearn.decomposition import PCA\n",
    "from sklearn.manifold import TSNE\n",
    "\n",
    "# get 3 principle components\n",
    "pca = PCA(n_components=2)\n",
    "pca_result = pca.fit_transform(X_train_vectors)\n",
    "\n",
    "# TSNE\n",
    "tsne = TSNE(n_components=2, verbose=1, perplexity=40, n_iter=300)\n",
    "tsne_results = tsne.fit_transform(pca_result)\n",
    "\n",
    "\n",
    "plt.figure(figsize=(16,10))\n",
    "sns.scatterplot(\n",
    "    x=tsne_results[:,0], y=tsne_results[:,1],\n",
    "    hue=y_train,\n",
    "    palette=sns.color_palette(\"bright\", 2),\n",
    "    legend=\"full\",\n",
    "    alpha=0.3\n",
    ")\n",
    "plt.show()"
   ]
  },
  {
   "cell_type": "markdown",
   "metadata": {
    "slideshow": {
     "slide_type": "slide"
    }
   },
   "source": [
    "# You have all you need to do NLP!\n",
    "\n",
    "We wanted to represent text as data.\n",
    "\n",
    "* We typically convert the text into numbers\n",
    "* Learned about *morphemes*, and how we use tokenizers to create tokens\n",
    "* Learned how we can increase *efficiency* of our representation (lemmatize), or increase *capacity* of our representation (larger vocabulary)\n",
    "* Learned about *word vectors*, which are a very efficient way of representing text, which is feasibly learned from readily available text data\n"
   ]
  },
  {
   "cell_type": "markdown",
   "metadata": {
    "slideshow": {
     "slide_type": "fragment"
    }
   },
   "source": [
    "Feel free to follow along the rest of this intro to learn a bit more about how BERT and recent neural models allow incorporating *context* in a text representation.\n"
   ]
  },
  {
   "cell_type": "markdown",
   "metadata": {
    "slideshow": {
     "slide_type": "slide"
    }
   },
   "source": [
    "# We haven't handled context yet!\n",
    "\n",
    "We've learned what the word \"good\" means, but the meaning does not change between \"be good\" and \"very good\". Easier to think about this for homonyms (specifically homographs):\n",
    "\n",
    "* The bank robber got away.\n",
    "* The river bank is slippery."
   ]
  },
  {
   "cell_type": "markdown",
   "metadata": {
    "slideshow": {
     "slide_type": "subslide"
    }
   },
   "source": [
    "# Sesame street to the rescue - [Illustrated BERT by Jay Alammar](https://jalammar.github.io/illustrated-bert/)\n",
    "\n",
    "<img src='https://jalammar.github.io/images/transformer-ber-ulmfit-elmo.png' width=\"500\">\n",
    "\n"
   ]
  },
  {
   "cell_type": "markdown",
   "metadata": {
    "slideshow": {
     "slide_type": "subslide"
    }
   },
   "source": [
    "# Sesame street to the rescue - [Illustrated BERT by Jay Alammar](https://jalammar.github.io/illustrated-bert/)\n",
    "\n",
    "<img src='https://jalammar.github.io/images/elmo-embedding-robin-williams.png' width=\"500\">"
   ]
  },
  {
   "cell_type": "markdown",
   "metadata": {
    "slideshow": {
     "slide_type": "subslide"
    }
   },
   "source": [
    "# Sesame street to the rescue - [Illustrated BERT by Jay Alammar](https://jalammar.github.io/illustrated-bert/)\n",
    "\n",
    "<img src='https://jalammar.github.io/images/elmo-word-embedding.png' width=\"500\">"
   ]
  },
  {
   "cell_type": "markdown",
   "metadata": {
    "slideshow": {
     "slide_type": "subslide"
    }
   },
   "source": [
    "# Experimenting with BERT\n",
    "\n",
    "One good way is to experiment with Google's tutorial:\n",
    "\n",
    "https://colab.research.google.com/github/tensorflow/tpu/blob/master/tools/colab/bert_finetuning_with_cloud_tpus.ipynb"
   ]
  },
  {
   "cell_type": "markdown",
   "metadata": {
    "slideshow": {
     "slide_type": "slide"
    }
   },
   "source": [
    "# What kind of tasks do people work on?\n",
    "\n",
    "* Text classification\n",
    "* Named Entity Recognition\n",
    "* Part-of-speech tagging\n",
    "* Question answering\n",
    "* Entity Linking\n",
    "* Relation extraction\n",
    "* Topic modeling\n",
    "* Language modeling\n",
    "* Translation - human translation is a 33 billion dollar industry\n",
    "\n",
    "Benchmarks\n",
    "* [GLUE](https://gluebenchmark.com/)\n",
    "* [SuperGLUE](https://super.gluebenchmark.com/tasks/)"
   ]
  },
  {
   "cell_type": "markdown",
   "metadata": {
    "slideshow": {
     "slide_type": "slide"
    }
   },
   "source": [
    "# What libraries do people use?\n",
    "\n",
    "* [scikit-learn](https://scikit-learn.org/stable/index.html)\n",
    "* [nltk](https://www.nltk.org/index.html)\n",
    "* [spaCy](https://spacy.io/)\n",
    "* [fastai](https://www.fast.ai/)\n",
    "* [PyTorch](https://pytorch.org/) / [HuggingFace](https://huggingface.co/)\n",
    "\n",
    "Utilities used here\n",
    "\n",
    "* [CountVectorizer](https://scikit-learn.org/stable/modules/generated/sklearn.feature_extraction.text.CountVectorizer.html) - convert text into features\n",
    "* [User Guide on text feature extraction](https://scikit-learn.org/stable/modules/feature_extraction.html#text-feature-extraction) - a good intro into using scikit-learn for NLP\n",
    "* [Decision Trees](https://scikit-learn.org/stable/modules/tree.html) - decision trees are a simple ML model - [colab tutorial on decision trees and more complex tree based models (e.g. xgboost)](https://colab.research.google.com/github/alistairewj/tree-prediction-tutorial/blob/master/trees-classification.ipynb)"
   ]
  },
  {
   "cell_type": "markdown",
   "metadata": {
    "slideshow": {
     "slide_type": "subslide"
    }
   },
   "source": [
    "## [spaCy pipeline](https://spacy.io/usage/processing-pipelines)\n",
    "\n",
    "<img src=\"img/spacy_pipeline.svg\" width=700>\n",
    "\n",
    "\n",
    "- Tokenize: split text into individual meaningful units\n",
    "- Pre-process: remove stop words, remove punctuation\n",
    "- Stemming: remove the suffix of words to merge similar words together\n",
    "- Lemmatize: use a lexicon to merge similar words together\n",
    "- Extract features: do whatever you think makes sense!\n",
    "  - [spaCy linguistic features](https://spacy.io/usage/linguistic-features)"
   ]
  },
  {
   "cell_type": "markdown",
   "metadata": {
    "slideshow": {
     "slide_type": "slide"
    }
   },
   "source": [
    "# Fun datasets to try\n",
    "\n",
    "- [ICLR 2021 Abstracts with Scores](https://github.com/evanzd/ICLR2021-OpenReviewData)\n",
    "- [IMDb dataset](https://ai.stanford.edu/~amaas/data/sentiment/)\n",
    "- [Jeopardy! questions](http://www.reddit.com/r/datasets/comments/1uyd0t/200000_jeopardy_questions_in_a_json_file/)\n",
    "- [MIMIC - contains deidentified free-text clinical notes](https://mimic.mit.edu/)\n",
    "- [List of other NLP datasets](https://github.com/niderhoff/nlp-datasets)"
   ]
  },
  {
   "cell_type": "markdown",
   "metadata": {
    "slideshow": {
     "slide_type": "slide"
    }
   },
   "source": [
    "# Further reading\n",
    "\n",
    "* http://web.stanford.edu/class/cs224n/\n",
    "* https://github.com/fastai/course-nlp\n",
    "* http://norvig.com/ngrams/\n",
    "* [The shallowness of Google translate](https://www.theatlantic.com/technology/archive/2018/01/the-shallowness-of-google-translate/551570/) - we still have some way to go!"
   ]
  },
  {
   "cell_type": "markdown",
   "metadata": {
    "slideshow": {
     "slide_type": "slide"
    }
   },
   "source": [
    "# Thanks!"
   ]
  },
  {
   "cell_type": "markdown",
   "metadata": {
    "slideshow": {
     "slide_type": "slide"
    }
   },
   "source": [
    "# Appendix"
   ]
  },
  {
   "cell_type": "markdown",
   "metadata": {
    "slideshow": {
     "slide_type": "skip"
    }
   },
   "source": [
    "## A silly approach\n",
    "\n",
    "We can memorize the sentences, and output the known answer."
   ]
  },
  {
   "cell_type": "code",
   "execution_count": null,
   "metadata": {
    "slideshow": {
     "slide_type": "skip"
    }
   },
   "outputs": [],
   "source": [
    "# create a dictionary which maps each sentence to a known outcome\n",
    "model = {sentences[i]: y[i] for i in range(len(sentences))}\n",
    "print('Model')\n",
    "for sentence, target in model.items():\n",
    "    print(f'  {sentence}: {target}')\n",
    "\n",
    "\n",
    "# see how often our model is correct\n",
    "print('\\nPerformance')\n",
    "match = [model[sentence] == y[i] for i, sentence in enumerate(sentences)]\n",
    "print(f'{sum(match) / len(sentences):3.1%} accuracy.')"
   ]
  },
  {
   "cell_type": "markdown",
   "metadata": {
    "slideshow": {
     "slide_type": "skip"
    }
   },
   "source": [
    "# What if we try a new sentence?"
   ]
  },
  {
   "cell_type": "code",
   "execution_count": null,
   "metadata": {
    "slideshow": {
     "slide_type": "skip"
    }
   },
   "outputs": [],
   "source": [
    "sentence = \"this was the best time of my life\"\n",
    "target = 0\n",
    "model[sentence]"
   ]
  },
  {
   "cell_type": "code",
   "execution_count": null,
   "metadata": {
    "slideshow": {
     "slide_type": "skip"
    }
   },
   "outputs": [],
   "source": [
    "\n",
    "try:\n",
    "    match = [model[sentence] == y[i] for i, sentence in enumerate(sentences_test)]\n",
    "    print(f'{sum(match) / len(sentences_test):3.1%} accuracy.')\n",
    "except KeyError as err:\n",
    "    print(f'Sentence not found in model!')"
   ]
  },
  {
   "cell_type": "markdown",
   "metadata": {
    "slideshow": {
     "slide_type": "skip"
    }
   },
   "source": [
    "Here is the traceback for the error we would have had without the try/except block:\n",
    "\n",
    "```python\n",
    "---------------------------------------------------------------------------\n",
    "KeyError                                  Traceback (most recent call last)\n",
    "<ipython-input-5-1d2b9ac74b7f> in <module>\n",
    "----> 1 match = [model[sentence] == y[i] for i, sentence in enumerate(sentences_test)]\n",
    "      2 print(f'{sum(match) / len(sentences_test):3.1%} accuracy.')\n",
    "\n",
    "<ipython-input-5-1d2b9ac74b7f> in <listcomp>(.0)\n",
    "----> 1 match = [model[sentence] == y[i] for i, sentence in enumerate(sentences_test)]\n",
    "      2 print(f'{sum(match) / len(sentences_test):3.1%} accuracy.')\n",
    "\n",
    "KeyError: 'This was fun!'\n",
    "```\n"
   ]
  },
  {
   "cell_type": "markdown",
   "metadata": {
    "slideshow": {
     "slide_type": "skip"
    }
   },
   "source": [
    "# Yikes!\n",
    "\n",
    "Our model failed at out of sample data. Sentences are too specific - learning that a specific sentence is positive or negative does not help us generalize to other sentences. Clearly we need a new approach!\n",
    "\n",
    "What if we picked a more generic, broadly applicable symbol? Characters come to mind!"
   ]
  },
  {
   "cell_type": "markdown",
   "metadata": {
    "slideshow": {
     "slide_type": "subslide"
    }
   },
   "source": [
    "# Words as data\n",
    "\n",
    "* Our \"alphabet\" becomes all the words we've seen\n",
    "  * Before: `alphabet = ['a', 'b', 'c', 'd', ...]`\n",
    "  * Now: `alphabet = ['good', 'bad', 'movie', ...]`\n",
    "  \n",
    "... *except*, calling this an alphabet is a misnomer. We'll call it a *vocabulary*."
   ]
  },
  {
   "cell_type": "code",
   "execution_count": null,
   "metadata": {
    "slideshow": {
     "slide_type": "fragment"
    }
   },
   "outputs": [],
   "source": [
    "# get all the unique words in the sentences, splitting by spaces\n",
    "vocabulary = sorted(list(set(\n",
    "    [word for sentence in sentences\n",
    "     for word in sentence.split(' ')]\n",
    ")))"
   ]
  },
  {
   "cell_type": "code",
   "execution_count": null,
   "metadata": {
    "slideshow": {
     "slide_type": "subslide"
    }
   },
   "outputs": [],
   "source": [
    "print(vocabulary)"
   ]
  },
  {
   "cell_type": "markdown",
   "metadata": {
    "slideshow": {
     "slide_type": "fragment"
    }
   },
   "source": [
    "The above list.. isn't great.\n",
    "\n",
    "* punctuation included in words\n",
    "* \"experience\" and \"experiences\" separate\n",
    "* \"A\" and \"a\" are different\n",
    "* \"good-looking\" vs \"good\"\n",
    "\n",
    "> Hrm, that's annoying."
   ]
  },
  {
   "cell_type": "markdown",
   "metadata": {
    "slideshow": {
     "slide_type": "skip"
    }
   },
   "source": [
    "# Trying it out\n",
    "\n",
    "We can try the token based approach on the dummy dataset.\n",
    "It doesn't work well because our vocabulary is missing the words in the test set... so our model doesn't generalize."
   ]
  },
  {
   "cell_type": "code",
   "execution_count": null,
   "metadata": {
    "slideshow": {
     "slide_type": "fragment"
    }
   },
   "outputs": [],
   "source": [
    "import spacy\n",
    "# load an English spacy model we have already downloaded\n",
    "nlp = spacy.load(\"en_core_web_sm\")\n",
    "\n",
    "for sentence in sentences:\n",
    "    doc = nlp(sentence)\n",
    "    print(sentence, end=': ')\n",
    "    print([token for token in doc])"
   ]
  },
  {
   "cell_type": "code",
   "execution_count": null,
   "metadata": {
    "slideshow": {
     "slide_type": "skip"
    }
   },
   "outputs": [],
   "source": [
    "# Applying to the dataset\n",
    "# get all the unique words in the sentences, splitting by spaces\n",
    "vocabulary = sorted(list(set(\n",
    "    [str(token) for sentence in sentences\n",
    "     for token in nlp(sentence)]\n",
    ")))\n",
    "\n",
    "print(f'Vocabulary size: {len(vocabulary)}.')\n",
    "splitter = lambda x: [str(token) for token in nlp(x)]\n",
    "\n",
    "# visualize the data with the sentence\n",
    "X = prepare_data(sentences, splitter, vocabulary)\n",
    "for i, sentence_vector in enumerate(X):\n",
    "    print(''.join([str(c) for c in sentence_vector]), end=' ')\n",
    "    print(sentences[i])"
   ]
  },
  {
   "cell_type": "code",
   "execution_count": null,
   "metadata": {
    "slideshow": {
     "slide_type": "skip"
    }
   },
   "outputs": [],
   "source": [
    "# it's easiest to visualize this if we just use a pandas dataframe\n",
    "# that will show us the column headers\n",
    "import pandas as pd\n",
    "df = pd.DataFrame(X, columns=vocabulary)\n",
    "# note the transpose so we can see all the columns\n",
    "# by default pandas omits middle columns if there are a lot, though it's configurable\n",
    "df.T"
   ]
  },
  {
   "cell_type": "code",
   "execution_count": null,
   "metadata": {
    "slideshow": {
     "slide_type": "skip"
    }
   },
   "outputs": [],
   "source": [
    "mdl = tree.DecisionTreeClassifier(max_depth=3)\n",
    "\n",
    "# fit the model to the data - trying to predict y from X\n",
    "mdl = mdl.fit(X, y)\n",
    "\n",
    "X_test = prepare_data(sentences_test, splitter, vocabulary)\n",
    "pred_test = mdl.predict(X_test)\n",
    "\n",
    "match = [pred_test[i] == y_test[i] for i, sentence in enumerate(sentences_test)]\n",
    "print(f'{sum(match) / len(sentences_test):3.1%} accuracy.')\n",
    "print([(pred_test[i], sentence) for i, sentence in enumerate(sentences_test)])\n",
    "\n",
    "graph = create_graph(mdl, feature_names=vocabulary)\n",
    "Image(graph.create_png())"
   ]
  },
  {
   "cell_type": "markdown",
   "metadata": {
    "slideshow": {
     "slide_type": "subslide"
    }
   },
   "source": [
    "# Trying it out\n",
    "\n",
    "We can try other sentences to explore the tokenizer's quirks."
   ]
  },
  {
   "cell_type": "code",
   "execution_count": null,
   "metadata": {
    "slideshow": {
     "slide_type": "fragment"
    }
   },
   "outputs": [],
   "source": [
    "sentence = \"To be or not to be; that is the question. Or at least it was Hamlet's question.\"\n",
    "doc = nlp(sentence)\n",
    "print([token for token in doc])"
   ]
  }
 ],
 "metadata": {
  "celltoolbar": "Slideshow",
  "jupytext": {
   "formats": "ipynb"
  },
  "kernelspec": {
   "display_name": "Python 3 (ipykernel)",
   "language": "python",
   "name": "python3"
  },
  "language_info": {
   "codemirror_mode": {
    "name": "ipython",
    "version": 3
   },
   "file_extension": ".py",
   "mimetype": "text/x-python",
   "name": "python",
   "nbconvert_exporter": "python",
   "pygments_lexer": "ipython3",
   "version": "3.8.11"
  },
  "rise": {
   "autolaunch": true,
   "enable_chalkboard": true
  }
 },
 "nbformat": 4,
 "nbformat_minor": 2
}
